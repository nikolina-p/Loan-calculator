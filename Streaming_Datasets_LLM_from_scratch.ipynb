{
  "cells": [
    {
      "cell_type": "markdown",
      "metadata": {
        "id": "view-in-github",
        "colab_type": "text"
      },
      "source": [
        "<a href=\"https://colab.research.google.com/github/nikolina-p/Loan-calculator/blob/master/Streaming_Datasets_LLM_from_scratch.ipynb\" target=\"_parent\"><img src=\"https://colab.research.google.com/assets/colab-badge.svg\" alt=\"Open In Colab\"/></a>"
      ]
    },
    {
      "cell_type": "code",
      "execution_count": null,
      "metadata": {
        "id": "kokt7N32FTTu"
      },
      "outputs": [],
      "source": [
        "import torch"
      ]
    },
    {
      "cell_type": "code",
      "execution_count": null,
      "metadata": {
        "id": "GsDLg7wXA07j"
      },
      "outputs": [],
      "source": [
        "%%capture\n",
        "!pip install tiktoken"
      ]
    },
    {
      "cell_type": "code",
      "execution_count": null,
      "metadata": {
        "id": "g_FDpP6BFTT0"
      },
      "outputs": [],
      "source": [
        "%%capture\n",
        "!pip install -U datasets"
      ]
    },
    {
      "cell_type": "markdown",
      "metadata": {
        "jp-MarkdownHeadingCollapsed": true,
        "id": "pljurwmWFTT1"
      },
      "source": [
        "## **GPT MODEL**\n",
        "1. Multi-head self-attention mechanism\n",
        "2. Feed-forward layer\n",
        "3. Transformer block (1 + 2)"
      ]
    },
    {
      "cell_type": "markdown",
      "metadata": {
        "id": "DU4jykP2lBkV"
      },
      "source": [
        "### **Multi-head self-attention mechanism**"
      ]
    },
    {
      "cell_type": "code",
      "execution_count": null,
      "metadata": {
        "id": "hqqZKTdjfaUH"
      },
      "outputs": [],
      "source": [
        "import torch\n",
        "from torch import nn\n",
        "\n",
        "class MultiHeadAttention(nn.Module):\n",
        "\n",
        "    def __init__(self, d_in, d_out, context_length, dropout, num_heads, qkv_bias=False):\n",
        "        super().__init__()\n",
        "        assert d_out % num_heads == 0, \"d_out must be divisible by num_heads\"\n",
        "        self.d_out = d_out\n",
        "        self.num_heads = num_heads\n",
        "        self.head_dim = d_out // num_heads\n",
        "\n",
        "        self.W_query = nn.Linear(d_in, d_out, bias=qkv_bias)\n",
        "        self.W_key = nn.Linear(d_in, d_out, bias=qkv_bias)\n",
        "        self.W_value = nn.Linear(d_in, d_out, bias=qkv_bias)\n",
        "\n",
        "        self.out_proj = nn.Linear(d_out, d_out)\n",
        "        self.dropout = nn.Dropout(dropout) # preventing overfitting - only used in training\n",
        "\n",
        "        # non-trainable parameters part of the model's state, move and save/load with the model\n",
        "        self.register_buffer(\"mask\", torch.triu(\n",
        "            torch.ones(context_length, context_length), diagonal=1))\n",
        "\n",
        "    def forward(self, x):\n",
        "        b, num_tokens, d_in = x.shape # b - batches\n",
        "\n",
        "        queries = self.W_query(x) # b x d_in x d_in\n",
        "        keys = self.W_key(x)\n",
        "        values = self.W_value(x)\n",
        "\n",
        "        # creating HEADs: step 1\n",
        "        queries = queries.view(b, num_tokens, self.num_heads, self.head_dim)\n",
        "        keys = keys.view(b, num_tokens, self.num_heads, self.head_dim)\n",
        "        values = values.view(b, num_tokens, self.num_heads, self.head_dim)\n",
        "\n",
        "        # creating HEADs: step 2\n",
        "        queries = queries.transpose(1, 2)\n",
        "        keys = keys.transpose(1, 2)\n",
        "        values = values.transpose(1, 2)\n",
        "\n",
        "        att_scores = queries @ keys.transpose(2,3) # dot product\n",
        "\n",
        "\n",
        "        att_scores = att_scores.masked_fill(\n",
        "            self.mask.bool()[:num_tokens, :num_tokens],\n",
        "            -torch.inf\n",
        "        )\n",
        "\n",
        "        # scale and normalize\n",
        "        att_weights = torch.softmax(\n",
        "            att_scores / keys.shape[-1] ** 0.5,\n",
        "            dim=-1\n",
        "            )\n",
        "\n",
        "        att_weights = self.dropout(att_weights)\n",
        "\n",
        "        context_vec = att_weights @ values # # (b, num_tokens, num_heads, head_dim)\n",
        "\n",
        "        # reverse shaping\n",
        "        context_vec = context_vec.transpose(1, 2) # (b, num_heads, num_tokens, head_dim)\n",
        "        context_vec = context_vec.contiguous().view(b, num_tokens, self.d_out)\n",
        "\n",
        "        context_vec = self.out_proj(context_vec)\n",
        "\n",
        "        return context_vec"
      ]
    },
    {
      "cell_type": "markdown",
      "metadata": {
        "id": "pGX9P5Izla0j"
      },
      "source": [
        "### **Feedforwar layer**\n",
        "**MLP - Multilayer Perceptron**"
      ]
    },
    {
      "cell_type": "code",
      "execution_count": null,
      "metadata": {
        "id": "q4HHHZYbLaHz"
      },
      "outputs": [],
      "source": [
        "class LayerNorm(nn.Module):\n",
        "\n",
        "    def __init__(self, emb_dim):\n",
        "        super().__init__()\n",
        "        self.eps = 1e-5 # helps avoid division by 0\n",
        "        self.scale = nn.Parameter(torch.ones(emb_dim)) # learnable\n",
        "        self.shift = nn.Parameter(torch.zeros(emb_dim)) # learnable\n",
        "\n",
        "    def forward(self, x):\n",
        "        mean = x.mean(dim=-1, keepdim=True)\n",
        "        var = x.var(dim=-1, keepdim=True, unbiased=False)\n",
        "        norm_x = (x - mean) / torch.sqrt(var + self.eps)\n",
        "        return self.scale * norm_x + self.shift\n"
      ]
    },
    {
      "cell_type": "code",
      "execution_count": null,
      "metadata": {
        "id": "smWywjd7RIt0"
      },
      "outputs": [],
      "source": [
        "# activation function\n",
        "class GELU(nn.Module):\n",
        "\n",
        "    def __init__(self):\n",
        "        super().__init__()\n",
        "\n",
        "    def forward(self, x):\n",
        "        return 0.5 * x * (1 + torch.tanh(\n",
        "            torch.sqrt(torch.tensor(2.0 / torch.pi)) * (x + 0.044715 * torch.pow(x, 3))\n",
        "                ))\n"
      ]
    },
    {
      "cell_type": "code",
      "execution_count": null,
      "metadata": {
        "id": "NEmW681mkBDd"
      },
      "outputs": [],
      "source": [
        "\n",
        "class FeedForward(nn.Module):\n",
        "\n",
        "    def __init__(self, cfg):\n",
        "        super().__init__()\n",
        "        self.layers = nn.Sequential(\n",
        "            nn.Linear(cfg[\"emb_dim\"], 4 * cfg[\"emb_dim\"]),\n",
        "            GELU(),\n",
        "            nn.Linear(4 * cfg[\"emb_dim\"], cfg[\"emb_dim\"]),\n",
        "            )\n",
        "\n",
        "    def forward(self, x):\n",
        "        return self.layers(x)"
      ]
    },
    {
      "cell_type": "markdown",
      "metadata": {
        "id": "DWKVBHdbsIEW"
      },
      "source": [
        "### **Transformer Block**"
      ]
    },
    {
      "cell_type": "code",
      "execution_count": null,
      "metadata": {
        "id": "P7zSayE3K5uQ"
      },
      "outputs": [],
      "source": [
        "class TransformerBlock(nn.Module):\n",
        "\n",
        "    def __init__(self, cfg):\n",
        "        super().__init__()\n",
        "\n",
        "        self.att = MultiHeadAttention(\n",
        "            d_in=cfg[\"emb_dim\"], # dimension of input embeddings\n",
        "            d_out=cfg[\"emb_dim\"], # dimension of output embeddings\n",
        "            context_length=cfg[\"context_length\"], # number of tokens in one sequence\n",
        "            num_heads=cfg[\"n_heads\"],\n",
        "            dropout=cfg[\"drop_rate\"], # rate used for dropout\n",
        "            qkv_bias=cfg[\"qkv_bias\"]) # True/False - use bias in query, key and value weights matrices or not\n",
        "\n",
        "        self.ff = FeedForward(cfg)\n",
        "\n",
        "        self.norm1 = LayerNorm(cfg[\"emb_dim\"])\n",
        "        self.norm2 = LayerNorm(cfg[\"emb_dim\"])\n",
        "        self.drop_shortcut = nn.Dropout(cfg[\"drop_rate\"]) # dropout layer\n",
        "\n",
        "    def forward(self, x):\n",
        "        # Multi-Head Self-Attention Layer\n",
        "        shortcut = x\n",
        "        x = self.norm1(x)\n",
        "        x = self.att(x)\n",
        "        x = self.drop_shortcut(x)\n",
        "        x = x + shortcut\n",
        "\n",
        "        # Feed-Forward Layer\n",
        "        shortcut = x\n",
        "        x = self.norm2(x)\n",
        "        x = self.ff(x)\n",
        "        x = self.drop_shortcut(x)\n",
        "        x = x + shortcut\n",
        "\n",
        "        return x"
      ]
    },
    {
      "cell_type": "markdown",
      "metadata": {
        "id": "DljxVF_tsLkA"
      },
      "source": [
        "### **GPT MODEL**"
      ]
    },
    {
      "cell_type": "code",
      "execution_count": null,
      "metadata": {
        "id": "-d0TzbEukBah"
      },
      "outputs": [],
      "source": [
        "from huggingface_hub import PyTorchModelHubMixin\n",
        "\n",
        "class GPTModel(nn.Module, PyTorchModelHubMixin):\n",
        "\n",
        "    def __init__(self, cfg):\n",
        "        super().__init__()\n",
        "        # self.cfg = cfg\n",
        "\n",
        "        self.tok_emb = nn.Embedding(cfg[\"vocab_size\"], cfg[\"emb_dim\"])\n",
        "        self.pos_emb = nn.Embedding(cfg[\"context_length\"], cfg[\"emb_dim\"])\n",
        "        self.drop_emb = nn.Dropout(cfg[\"drop_rate\"])\n",
        "\n",
        "        self.trf_blocks = nn.Sequential(\n",
        "            *[TransformerBlock(cfg) for _ in range(cfg[\"n_layers\"])]\n",
        "            )\n",
        "        self.final_norm = LayerNorm(cfg[\"emb_dim\"])\n",
        "        self.out_head = nn.Linear(\n",
        "            cfg[\"emb_dim\"], cfg[\"vocab_size\"], bias=False\n",
        "        )\n",
        "\n",
        "    def forward(self, in_idx):\n",
        "        batch_size, seq_len = in_idx.shape\n",
        "\n",
        "        tok_embeds = self.tok_emb(in_idx)\n",
        "        pos_embeds = self.pos_emb(\n",
        "            torch.arange(seq_len, device=in_idx.device)\n",
        "            )\n",
        "        x = tok_embeds + pos_embeds\n",
        "        x = self.drop_emb(x)\n",
        "\n",
        "        x = self.trf_blocks(x)\n",
        "\n",
        "        x = self.final_norm(x)\n",
        "        logits = self.out_head(x)\n",
        "\n",
        "        return logits"
      ]
    },
    {
      "cell_type": "markdown",
      "metadata": {
        "id": "-u5SgsGwlTwk"
      },
      "source": [
        "## **GPT configuration**"
      ]
    },
    {
      "cell_type": "code",
      "execution_count": null,
      "metadata": {
        "id": "K0p1uqxjl92r"
      },
      "outputs": [],
      "source": [
        "# the model coded in this notebook has 163M parameters, 'cos it is not using weight tying (using tok.emb for out_head) like original GPT2\n",
        "GPT_CONFIG_124M = {\n",
        "    \"vocab_size\": 50257, # Vocabulary size\n",
        "    \"context_length\": 512, # Context length\n",
        "    \"emb_dim\": 768, # Embedding dimension\n",
        "    \"n_heads\": 12, # Number of attention heads\n",
        "    \"n_layers\": 12, # Number of layers\n",
        "    \"drop_rate\": 0.1, # Dropout rate\n",
        "    \"qkv_bias\": False # Query-Key-Value bias\n",
        "}"
      ]
    },
    {
      "cell_type": "markdown",
      "metadata": {
        "id": "K8w34ZwRsQq9"
      },
      "source": [
        "## **text generating functions**"
      ]
    },
    {
      "cell_type": "code",
      "execution_count": null,
      "metadata": {
        "id": "GuBdLYWIE28V"
      },
      "outputs": [],
      "source": [
        "# text generating function\n",
        "def generate_text_simple(model, idx, max_new_tokens, context_size):\n",
        "    for _ in range(max_new_tokens):\n",
        "        idx_cond = idx[:, -context_size:]\n",
        "        with torch.no_grad():\n",
        "            logits = model(idx_cond)\n",
        "        logits = logits[:, -1, :]\n",
        "        probabilities = torch.softmax(logits, dim=-1)\n",
        "        idx_next = torch.argmax(probabilities, dim=-1, keepdim=True)\n",
        "        idx = torch.cat((idx, idx_next), dim=1)\n",
        "\n",
        "    return idx"
      ]
    },
    {
      "cell_type": "code",
      "execution_count": null,
      "metadata": {
        "id": "WrP7AHOLsWYI"
      },
      "outputs": [],
      "source": [
        "def text_to_token_ids(text, tokenizer, device):\n",
        "    encoded = tokenizer.encode(text, allowed_special={'<|endoftext|>'})\n",
        "    encoded_tensor = torch.tensor(encoded).unsqueeze(0) # adds the batch dimension\n",
        "    return encoded_tensor.to(device)\n",
        "\n",
        "def token_ids_to_text(token_ids, tokenizer):\n",
        "    flat = token_ids.squeeze(0) # removes the batch dimension\n",
        "    return tokenizer.decode(flat.tolist())"
      ]
    },
    {
      "cell_type": "code",
      "source": [
        "def talk_to_me(model, text, max_new_tokens, context_size, tokenizer, device):\n",
        "    idx = text_to_token_ids(text, tokenizer, device)\n",
        "    response_idx = generate_text_simple(model, idx, max_new_tokens, context_size)\n",
        "    return token_ids_to_text(response_idx, tokenizer)"
      ],
      "metadata": {
        "id": "ihACqjvTdj6x"
      },
      "execution_count": null,
      "outputs": []
    },
    {
      "cell_type": "markdown",
      "metadata": {
        "id": "rQCBVrPWEU2x"
      },
      "source": [
        "## **StreamingDataset**"
      ]
    },
    {
      "cell_type": "code",
      "execution_count": null,
      "metadata": {
        "id": "nd8UH83iFTT9"
      },
      "outputs": [],
      "source": [
        "from torch.utils.data import IterableDataset, DataLoader\n",
        "import re\n",
        "\n",
        "class BookStreamProcessor(IterableDataset):\n",
        "    \"\"\"An iterator class that keeps track of number of pulled books,\n",
        "     eliminates duplicate books and applies basic text cleaning.\"\"\"\n",
        "\n",
        "    def __init__(self, raw_stream, start=0):\n",
        "        self.raw_stream = iter(islice(raw_stream, start, None)) # skip the books previously used for training\n",
        "        self.books_seen = set()\n",
        "        self.book_counter = start # tracks num of books pulled from the raw stream; used to resume training without repeating training data\n",
        "\n",
        "    def __iter__(self):\n",
        "        while True:\n",
        "            try:\n",
        "                book = next(self.raw_stream)\n",
        "                self.book_counter += 1\n",
        "                if book[\"id\"] not in self.books_seen:\n",
        "                    self.books_seen.add(book[\"id\"])\n",
        "                    book[\"text\"] = self.preprocess(book[\"text\"])\n",
        "                    yield book\n",
        "            except StopIteration:\n",
        "                print(\"BookStreamProcessor: No more books\")\n",
        "                break\n",
        "\n",
        "    def preprocess(self, text):\n",
        "        text = self.strip_gutenberg_header_footer(text)\n",
        "        text = self.clean_newlines(text)\n",
        "        return text\n",
        "\n",
        "    def strip_gutenberg_header_footer(self, text):\n",
        "        # remove header before ***START ...*** or *** START ... ***\n",
        "        start_match = re.search(r\"\\*{3}\\s*START[^*]*\\*{3}\", text, re.IGNORECASE)\n",
        "        if start_match:\n",
        "            text = text[start_match.end():]\n",
        "\n",
        "        # remove footer after ***END ...*** or *** END ...***\n",
        "        end_match = re.search(r\"\\*{3}\\s*END[^*]*\\*{3}\", text, re.IGNORECASE)\n",
        "        if end_match:\n",
        "            text = text[:end_match.start()]\n",
        "        return text.strip()\n",
        "\n",
        "    def clean_newlines(self, text):\n",
        "        # Replace 3 or more newlines with 2 newlines (paragraph break)\n",
        "        return re.sub(r'\\n{3,}', '\\n\\n', text)\n"
      ]
    },
    {
      "cell_type": "code",
      "execution_count": null,
      "metadata": {
        "id": "hrrxoLfY01x3"
      },
      "outputs": [],
      "source": [
        "import random, torch, gc\n",
        "\n",
        "class StreamingDataset(IterableDataset):\n",
        "    \"\"\"An iterable dataset that tokenizes book texts from a stream,\n",
        "    generates input-target sequence pairs, and shuffles sequences at the book level.\"\"\"\n",
        "\n",
        "    def __init__(self, dataset, tokenizer, context_size):\n",
        "        super().__init__()\n",
        "        self.datasource = iter(BookStreamProcessor(dataset))\n",
        "        self.tokenizer = tokenizer\n",
        "        self.context_size = context_size\n",
        "\n",
        "    def __iter__(self):\n",
        "        while True:\n",
        "            try:\n",
        "                book = next(self.datasource)\n",
        "                book_token_ids = self.tokenizer.encode(book[\"text\"],\n",
        "                                                       allowed_special={\"<|endoftext|>\"})\n",
        "                if len(book_token_ids) < self.context_size:\n",
        "                    print(f\"Book {book['id']} too short - not enough tokens.\")\n",
        "                    continue\n",
        "                # loop trough shuffled start_indices of input_chunk(s) and create pairs\n",
        "                for i in self.shuffle_indices(len(book_token_ids)):\n",
        "                    input_chunk = book_token_ids[i:i + self.context_size]\n",
        "                    target_chunk = book_token_ids[i + 1:i + self.context_size + 1]\n",
        "                    yield book[\"id\"], torch.tensor(input_chunk), torch.tensor(target_chunk)\n",
        "            except StopIteration:\n",
        "                print(\"StreamingDataset: no more data\")\n",
        "                break\n",
        "\n",
        "    def shuffle_indices(self, num_tokens_book):\n",
        "        start_indices = list(range(0, num_tokens_book - self.context_size, self.context_size))\n",
        "        random.seed(123)\n",
        "        random.shuffle(start_indices)\n",
        "        return start_indices"
      ]
    },
    {
      "cell_type": "markdown",
      "metadata": {
        "id": "HX8mLeSrFTT-"
      },
      "source": [
        "**Calculate loss STREAMING**"
      ]
    },
    {
      "cell_type": "code",
      "execution_count": null,
      "metadata": {
        "id": "oUjg5fPWFTT-"
      },
      "outputs": [],
      "source": [
        "# calculates the loss per one batch\n",
        "def calc_loss_batch(input_batch, target_batch, model, device):\n",
        "    input_batch, target_batch = input_batch.to(device), target_batch.to(device)\n",
        "    model = model.to(device)\n",
        "    logits = model(input_batch)\n",
        "    loss = torch.nn.functional.cross_entropy(logits.flatten(0, 1), target_batch.flatten())\n",
        "    return loss\n"
      ]
    },
    {
      "cell_type": "markdown",
      "source": [
        "**Save checkpoint and training data**"
      ],
      "metadata": {
        "id": "2moaF8ngoMEN"
      }
    },
    {
      "cell_type": "code",
      "execution_count": null,
      "metadata": {
        "id": "G5QlGDebFTUB"
      },
      "outputs": [],
      "source": [
        "# save the model and optimizer state\n",
        "def save_checkpoint(model, optimizer, scaler, num):\n",
        "    print(f\"Saving checkpoint...{num}\")\n",
        "    torch.save({\n",
        "        \"model_state_dict\": model.state_dict(),\n",
        "        \"optimizer_state_dict\": optimizer.state_dict(),\n",
        "        \"scaler_state_dict\": scaler.state_dict()\n",
        "        },\n",
        "        f\"checkpoint_cycle_{num}.pth\"\n",
        "        )\n",
        "\n",
        "#load the model and optimizer\n",
        "def load_checkpoint(file_name, model_config):\n",
        "    checkpoint = torch.load(file_name, map_location=device)\n",
        "    model = GPTModel(model_config)\n",
        "    model.load_state_dict(checkpoint[\"model_state_dict\"])\n",
        "    optimizer = torch.optim.AdamW(model.parameters(), lr=5e-4, weight_decay=0.1)\n",
        "    optimizer.load_state_dict(checkpoint[\"optimizer_state_dict\"])\n",
        "    return model, optimizer"
      ]
    },
    {
      "cell_type": "code",
      "execution_count": null,
      "metadata": {
        "id": "eHFBwpb7FTUA"
      },
      "outputs": [],
      "source": [
        "import json\n",
        "from datetime import datetime\n",
        "import matplotlib.pyplot as plt\n",
        "\n",
        "# save training results in json file\n",
        "def save_training_info(train_losses, valid_losses, track_tokens_seen_t,\n",
        "                       track_tokens_seen_v, books_seen, times):\n",
        "    data = {\n",
        "        \"train_losses\": train_losses,\n",
        "        \"valid_losses\": valid_losses,\n",
        "        \"track_tokens_seen_t\": track_tokens_seen_t,\n",
        "        \"track_tokens_seen_v\": track_tokens_seen_v,\n",
        "        \"books_processed\": list(books_seen),\n",
        "        \"time per cycle\": times\n",
        "    }\n",
        "\n",
        "    date_str = datetime.now().strftime(\"%Y-%m-%d\")\n",
        "\n",
        "    with open(f\"results_{date_str}_books_{len(books_seen)}.json\", \"w\", encoding=\"UTF-8\") as f:\n",
        "        json.dump(data, f, indent=4)\n",
        "\n",
        "\n",
        "def plot_loss_convergence(train_losses, val_losses):\n",
        "    cycles = range(1, len(train_losses) + 1)\n",
        "\n",
        "    plt.figure(figsize=(8, 5))\n",
        "    plt.plot(cycles, train_losses, label='Training Loss', marker='o')\n",
        "    plt.plot(cycles, val_losses, label='Validation Loss', marker='s')\n",
        "    plt.xlabel('Cycle')\n",
        "    plt.ylabel('Loss')\n",
        "    plt.title('Loss Convergence')\n",
        "    plt.legend()\n",
        "    plt.grid(True)\n",
        "    plt.tight_layout()\n",
        "    plt.show()"
      ]
    },
    {
      "cell_type": "markdown",
      "source": [
        "##### **Train model - A100 - accumulate gradients**"
      ],
      "metadata": {
        "id": "MF9nzPIqmc6v"
      }
    },
    {
      "cell_type": "code",
      "execution_count": null,
      "metadata": {
        "id": "vyOyuG5Klh0N"
      },
      "outputs": [],
      "source": [
        "import time\n",
        "\n",
        "def train_model_streaming_A100(model, data_loader, optimizer, scaler, mix_prec,\n",
        "                               device, num_epoch, training_batches, val_ratio):\n",
        "    # track losses per cycle and tokens seen\n",
        "    train_losses, valid_losses = [], []\n",
        "    books_seen = set()\n",
        "    times = [] # execution time per validation cycle\n",
        "    tokens_seen_train, tokens_seen_valid = 0, 0\n",
        "\n",
        "    # Main training loop\n",
        "    try:\n",
        "        for epoch in range(num_epoch):\n",
        "            loss_train, train_batch_count = 0, 0 # accumulated loss in a cycle; number of batches in a cycle\n",
        "            loss_valid, valid_batch_count = 0, 0\n",
        "            tokens_seen_train, tokens_seen_valid = 0, 0\n",
        "            training_mode = True # start in training mode by default\n",
        "            model.train()\n",
        "            cyc_start_time = time.time()\n",
        "            ACCUMULATE_GRAD_STEPS = 0\n",
        "\n",
        "            for book_id_batch, input_batch, target_batch in data_loader:\n",
        "                books_seen.update((book_id_batch[0], book_id_batch[-1]))\n",
        "                # train\n",
        "                if training_mode:\n",
        "                    ACCUMULATE_GRAD_STEPS += 1\n",
        "                    # print results of the previous validation cycle, if any, and SAVE A CHECKPOINT\n",
        "                    if loss_valid != 0:\n",
        "                        times.append(time.time() - cyc_start_time)\n",
        "                        print(f\"\\nVALIDATION loss {(loss_valid/valid_batch_count):.3f}\\nTotal tokens seen in validation: {tokens_seen_valid}\")\n",
        "                        print(f\"Cycle time: {times[-1]}\\n\")\n",
        "                        # save metrics\n",
        "                        valid_losses.append((loss_valid / valid_batch_count).item())\n",
        "                        # save a checkpoint\n",
        "                        save_checkpoint(model, optimizer, scaler, len(books_seen))\n",
        "                        # reset time and loss tracking variables for a new cycle\n",
        "                        loss_valid = 0\n",
        "                        valid_batch_count = 0\n",
        "                        cyc_start_time = time.time()\n",
        "                        # switch to train\n",
        "                        model.train()\n",
        "\n",
        "                    with torch.autocast(device_type=device.type, dtype=torch.bfloat16, enabled=mix_prec):\n",
        "                        loss = calc_loss_batch(input_batch, target_batch, model, device)\n",
        "\n",
        "                    scaler.scale(loss).backward() # Calculate loss gradients; scale them to prevent underflowing when mixed precision\n",
        "                    if ACCUMULATE_GRAD_STEPS == 4:\n",
        "                        scaler.step(optimizer) # Update model weights\n",
        "                        scaler.update()\n",
        "                        optimizer.zero_grad(set_to_none=True)\n",
        "                        ACCUMULATE_GRAD_STEPS = 0\n",
        "\n",
        "                    tokens_seen_train += input_batch.numel()\n",
        "                    loss_train += loss\n",
        "                    train_batch_count += 1\n",
        "\n",
        "                    if train_batch_count % training_batches == 0:\n",
        "                        training_mode = False\n",
        "\n",
        "                # Validate\n",
        "                else:\n",
        "                    # Print results of the previous training cycle\n",
        "                    if loss_train != 0:\n",
        "                        print(f\"\"\"\\nTRAINING loss average: {(loss_train/train_batch_count):.3f}\n",
        "                              Total tokens seen in training: {tokens_seen_train}\\n\"\"\")\n",
        "                        train_losses.append((loss_train / train_batch_count).item())\n",
        "                        loss_train = 0\n",
        "                        train_batch_count = 0\n",
        "                        # Switch to evaluation mode\n",
        "                        model.eval()\n",
        "\n",
        "                    # Validate\n",
        "                    with torch.no_grad():\n",
        "                        loss = calc_loss_batch(input_batch, target_batch, model, device)\n",
        "                        loss_valid += loss\n",
        "                        valid_batch_count += 1\n",
        "                        tokens_seen_valid += input_batch.numel()\n",
        "\n",
        "                        if valid_batch_count % (training_batches * val_ratio) == 0:\n",
        "                            training_mode = True\n",
        "\n",
        "                # Handle remaining accumulated gradients at the end of an epoch if any\n",
        "                if ACCUMULATE_GRAD_STEPS != 0:\n",
        "                    scaler.step(optimizer)\n",
        "                    scaler.update()\n",
        "                    optimizer.zero_grad(set_to_none=True)\n",
        "                    ACCUMULATE_GRAD_STEPS = 0\n",
        "\n",
        "\n",
        "    except KeyboardInterrupt:\n",
        "        print(\"Saving model after KeyboardInterrupt\")\n",
        "\n",
        "    save_checkpoint(model, optimizer, scaler, len(books_seen))\n",
        "    save_training_info(train_losses, valid_losses, tokens_seen_train,\n",
        "                           tokens_seen_valid, books_seen, times)\n",
        "    print(f\"TOTAL TOKENS: {tokens_seen_train + tokens_seen_valid}\")\n",
        "    print(f\"LOSSES: {train_losses[-1]}/{valid_losses[-1]}\")\n",
        "    plot_loss_convergence(train_losses, valid_losses)\n",
        "\n",
        "    return train_losses, valid_losses, tokens_seen_train, tokens_seen_valid"
      ]
    },
    {
      "cell_type": "markdown",
      "source": [
        "#### **Train function - A100 - mixed precision**"
      ],
      "metadata": {
        "id": "gQV6h-B5XCut"
      }
    },
    {
      "cell_type": "code",
      "execution_count": null,
      "metadata": {
        "id": "emdZ6dyZXWiF"
      },
      "outputs": [],
      "source": [
        "def train_model_streaming_mix_prec(model, data_loader, optimizer,scaler, mix_prec,\n",
        "                                   device, num_epoch, training_batches, val_ratio):\n",
        "    # track losses per cycle and tokens seen\n",
        "    train_losses, valid_losses = [], []\n",
        "    books_seen = set()\n",
        "    times = [] # execution time per validation cycle\n",
        "    tokens_seen_train, tokens_seen_valid = 0, 0\n",
        "\n",
        "    # Main training loop\n",
        "    try:\n",
        "        for epoch in range(num_epoch):\n",
        "            loss_train, train_batch_count = 0, 0 # accumulated loss in a cycle; number of batches in a cycle\n",
        "            loss_valid, valid_batch_count = 0, 0\n",
        "\n",
        "            training_mode = True # start in training mode by default\n",
        "            model.train()\n",
        "\n",
        "            cyc_start_time = time.time()\n",
        "\n",
        "            for book_id_batch, input_batch, target_batch in data_loader:\n",
        "                books_seen.update((book_id_batch[0], book_id_batch[-1]))\n",
        "                # train\n",
        "                if training_mode:\n",
        "                    # print results of the previous validation cycle, if any, SAVE A CHECKPOINT\n",
        "                    if loss_valid != 0:\n",
        "                        times.append(time.time() - cyc_start_time)\n",
        "                        print(f\"\\nVALIDATION loss {(loss_valid/valid_batch_count):.3f}\")\n",
        "                        print(f\"Total tokens seen in validation: {tokens_seen_valid}\\n\")\n",
        "                        print(f\"Cycle time: {times[-1]}\\n\")\n",
        "                        # save metrics\n",
        "                        valid_losses.append((loss_valid / valid_batch_count).item())\n",
        "                        # save the checkpoint\n",
        "                        save_checkpoint(model, optimizer, scaler, len(books_seen))\n",
        "                        # reset tracking variables for a new cycle\n",
        "                        loss_valid = 0\n",
        "                        valid_batch_count = 0\n",
        "                        cyc_start_time = time.time()\n",
        "\n",
        "                        # Switch to train\n",
        "                        model.train()\n",
        "\n",
        "\n",
        "                    optimizer.zero_grad(set_to_none=True)\n",
        "                    with torch.autocast(device_type=device.type, dtype=torch.bfloat16, enabled=mix_prec):\n",
        "                        loss = calc_loss_batch(input_batch, target_batch, model, device)\n",
        "                    scaler.scale(loss).backward()\n",
        "                    scaler.step(optimizer) # update model weights\n",
        "                    scaler.update()\n",
        "\n",
        "                    tokens_seen_train += input_batch.numel()\n",
        "                    loss_train += loss\n",
        "                    train_batch_count += 1\n",
        "\n",
        "                    if train_batch_count % training_batches == 0:\n",
        "                        training_mode = False\n",
        "\n",
        "                # validate\n",
        "                else:\n",
        "                    # print results of the previous training cycle\n",
        "                    if loss_train != 0:\n",
        "                        print(f\"\\nTRAINING loss average: {(loss_train/train_batch_count):.3f}\")\n",
        "                        print(f\"Total tokens seen in training: {tokens_seen_train}\\n\")\n",
        "                        train_losses.append((loss_train / train_batch_count).item())\n",
        "                        loss_train = 0\n",
        "                        train_batch_count = 0\n",
        "                        # switch to evaluation mode\n",
        "                        model.eval()\n",
        "\n",
        "                    # validate\n",
        "                    with torch.no_grad():\n",
        "                        loss = calc_loss_batch(input_batch, target_batch, model, device)\n",
        "                        loss_valid += loss\n",
        "                        valid_batch_count += 1\n",
        "                        tokens_seen_valid += input_batch.numel()\n",
        "\n",
        "                        if valid_batch_count % (training_batches * val_ratio) == 0:\n",
        "                            training_mode = True\n",
        "\n",
        "    except KeyboardInterrupt:\n",
        "        print(\"Saving model after KeyboardInterrupt...\")\n",
        "\n",
        "    save_checkpoint(model, optimizer, scaler, len(books_seen))\n",
        "    save_training_info(train_losses, valid_losses, tokens_seen_train,\n",
        "                           tokens_seen_valid, books_seen, times)\n",
        "    print(f\"TOTAL TOKENS: {tokens_seen_train + tokens_seen_valid}\")\n",
        "    print(f\"LOSSES: {train_losses[-1]}/{valid_losses[-1]}\")\n",
        "    plot_loss_convergence(train_losses, valid_losses)\n",
        "\n",
        "    return train_losses, valid_losses, tokens_seen_train, tokens_seen_valid"
      ]
    },
    {
      "cell_type": "markdown",
      "source": [
        "##### **Train model STREAMING - no optimization**"
      ],
      "metadata": {
        "id": "HpK8nXWqZwlQ"
      }
    },
    {
      "cell_type": "code",
      "execution_count": null,
      "metadata": {
        "id": "d78JLx2IZ78v"
      },
      "outputs": [],
      "source": [
        "def train_model_streaming_batches(model, data_loader, optimizer, device, num_epoch, batch_size, training_batches, val_ratio):\n",
        "    # track losses per cycle and tokens seen\n",
        "    train_losses, valid_losses, track_tokens_seen_t, track_tokens_seen_v = [], [], [], []\n",
        "    books_seen = set()\n",
        "\n",
        "    # Main training loop\n",
        "    try:\n",
        "        for epoch in range(num_epoch):\n",
        "            loss_train, train_batch_count = 0, 0 # accumulated loss in a cycle; number of batches in a cycle\n",
        "            loss_valid, valid_batch_count = 0, 0\n",
        "            tokens_seen_train, tokens_seen_valid = 0, 0\n",
        "\n",
        "            training_mode = True # start in training mode by default\n",
        "            model.train()\n",
        "\n",
        "            for book_id_batch, input_batch, target_batch in data_loader:\n",
        "                books_seen.update((book_id_batch[0], book_id_batch[-1]))\n",
        "                # train\n",
        "                if training_mode:\n",
        "                    # print results of the previous validation cycle, if any, and SAVE A CHECKPOINT\n",
        "                    if loss_valid != 0:\n",
        "                        print(f\"\\nVALIDATION loss {(loss_valid/valid_batch_count):.3f}\\t\\tTotal tokens seen in validation: {tokens_seen_valid}\\n\")\n",
        "                        valid_losses.append((loss_valid / valid_batch_count).item())\n",
        "                        track_tokens_seen_v.append(tokens_seen_valid)\n",
        "                        save_checkpoint(model, optimizer, len(books_seen))\n",
        "                        save_training_info(train_losses, valid_losses, track_tokens_seen_t,\n",
        "                                           track_tokens_seen_v, books_seen)\n",
        "                        loss_valid = 0\n",
        "                        valid_batch_count = 0\n",
        "\n",
        "                    # train\n",
        "                    model.train()\n",
        "                    optimizer.zero_grad(set_to_none=True)\n",
        "                    loss = calc_loss_batch(input_batch, target_batch, model, device)\n",
        "                    loss.backward() # Calculate loss gradients\n",
        "                    optimizer.step() # Update model weights using loss gradients\n",
        "                    tokens_seen_train += input_batch.numel()\n",
        "                    loss_train += loss\n",
        "                    train_batch_count += 1\n",
        "\n",
        "                    if train_batch_count % training_batches == 0:\n",
        "                        training_mode = False\n",
        "\n",
        "                # validate\n",
        "                else:\n",
        "                    # print results of the previous training cycle\n",
        "                    if loss_train != 0:\n",
        "                        print(f\"\\nTRAINING loss average: {(loss_train/train_batch_count):.3f}\\t\\tTotal tokens seen in training: {tokens_seen_train}\\n\")\n",
        "                        train_losses.append((loss_train / train_batch_count).item())\n",
        "                        track_tokens_seen_t.append(tokens_seen_train)\n",
        "                        loss_train = 0\n",
        "                        train_batch_count = 0\n",
        "\n",
        "                    # validate\n",
        "                    with torch.no_grad():\n",
        "                        model.eval()\n",
        "                        loss = calc_loss_batch(input_batch, target_batch, model, device)\n",
        "                        loss_valid += loss\n",
        "                        valid_batch_count += 1\n",
        "                        tokens_seen_valid += input_batch.numel()\n",
        "\n",
        "                        if valid_batch_count % (training_batches * val_ratio) == 0:\n",
        "                            training_mode = True\n",
        "\n",
        "    except KeyboardInterrupt:\n",
        "        print(\"Saving model after KeyboardInterrupt\")\n",
        "        save_checkpoint(model, optimizer, len(books_seen))\n",
        "        save_training_info(train_losses, valid_losses, track_tokens_seen_t,\n",
        "                           track_tokens_seen_v, books_seen)\n",
        "\n",
        "    save_checkpoint(model, optimizer, len(books_seen))\n",
        "\n",
        "    return train_losses, valid_losses, track_tokens_seen_t, track_tokens_seen_v"
      ]
    },
    {
      "cell_type": "markdown",
      "metadata": {
        "id": "oI-BIKTqFTT-"
      },
      "source": [
        "##### **Train model STREAMING - split per no of books**"
      ]
    },
    {
      "cell_type": "code",
      "execution_count": null,
      "metadata": {
        "id": "mVtP8oRLsWl4"
      },
      "outputs": [],
      "source": [
        "def train_model_streaming(model, data_loader, optimizer, device, tokenizer, num_epoch=1, num_books_train=5, num_books_valid=1):\n",
        "    # Initialize lists to track losses and tokens seen\n",
        "    train_losses, valid_losses, track_tokens_seen_t, track_tokens_seen_v = [], [], [], []\n",
        "\n",
        "    # Main training loop\n",
        "    for epoch in range(num_epoch):\n",
        "        loss_train, train_batch_count = 0, 0 # accumulated loss in a cycle; number of batches in a cycle\n",
        "        loss_valid, valid_batch_count = 0, 0\n",
        "        tokens_seen_train, tokens_seen_valid = 0, 0\n",
        "\n",
        "        books_seen = []\n",
        "        cycle = num_books_train + num_books_valid\n",
        "\n",
        "        training_mode = True # start in training mode by default\n",
        "        model.train()\n",
        "\n",
        "        for book_id_batch, input_batch, target_batch in data_loader:\n",
        "\n",
        "            # determine if it is a book for training or validation\n",
        "            book_id = book_id_batch[0]\n",
        "            if not books_seen or books_seen[-1] != book_id: # if it is a first book or a new book\n",
        "                books_seen.append(book_id)\n",
        "                # determine is it train or val book\n",
        "                index = (len(books_seen)-1) % cycle\n",
        "                training_mode = True if index < num_books_train else False\n",
        "\n",
        "            # train\n",
        "            if training_mode:\n",
        "                # print results of the previous validation cycle, if any, and SAVE A CHECKPOINT\n",
        "                if loss_valid != 0:\n",
        "                    print(f\"\\nVALIDATION loss {(loss_valid/valid_batch_count):.3f}\\t\\tTotal tokens seen in validation: {tokens_seen_valid}\\n\")\n",
        "                    valid_losses.append((loss_valid / valid_batch_count).item())\n",
        "                    track_tokens_seen_v.append(tokens_seen_valid)\n",
        "                    save_checkpoint(model, optimizer, len(books_seen))\n",
        "                    loss_valid = 0\n",
        "                    valid_batch_count = 0\n",
        "\n",
        "                # train\n",
        "                model.train()\n",
        "                optimizer.zero_grad()\n",
        "                loss = calc_loss_batch(input_batch, target_batch, model, device)\n",
        "                loss.backward() # Calculate loss gradients\n",
        "                optimizer.step() # Update model weights using loss gradients\n",
        "                tokens_seen_train += input_batch.numel()\n",
        "                loss_train += loss\n",
        "                train_batch_count += 1\n",
        "                loss_valid = 0\n",
        "                valid_batch_count = 0\n",
        "\n",
        "            # validate\n",
        "            else:\n",
        "                # print results of the previous training cycle\n",
        "                if loss_train != 0:\n",
        "                    print(f\"\\nTRAINING loss average: {(loss_train/train_batch_count):.3f}\\t\\tTotal tokens seen in training: {tokens_seen_train}\\n\")\n",
        "                    train_losses.append((loss_train / train_batch_count).item())\n",
        "                    track_tokens_seen_t.append(tokens_seen_train)\n",
        "                    loss_train = 0\n",
        "                    train_batch_count = 0\n",
        "\n",
        "                # validate\n",
        "                with torch.no_grad():\n",
        "                    model.eval()\n",
        "                    loss = calc_loss_batch(input_batch, target_batch, model, device)\n",
        "                    loss_valid += loss\n",
        "                    valid_batch_count += 1\n",
        "                    tokens_seen_valid += input_batch.numel()\n",
        "\n",
        "    save_checkpoint(model, optimizer, len(books_seen))\n",
        "\n",
        "    return train_losses, valid_losses, track_tokens_seen_t, track_tokens_seen_v"
      ]
    },
    {
      "cell_type": "markdown",
      "source": [
        "#### ---"
      ],
      "metadata": {
        "id": "Kvnb6IhuZMzy"
      }
    },
    {
      "cell_type": "markdown",
      "metadata": {
        "id": "6TGl5-X4FTT-"
      },
      "source": [
        "**Load the streaming dataset**"
      ]
    },
    {
      "cell_type": "code",
      "execution_count": null,
      "metadata": {
        "colab": {
          "base_uri": "https://localhost:8080/",
          "height": 208,
          "referenced_widgets": [
            "00eac1395d6e4a35b29fc054eb1a6574",
            "ba92f1a347314e0db0c86d102d941540",
            "04620e2398b54787aa2dd1ac51d8f95a",
            "7ab69c9583ad4dc28849a4d28010fb9e",
            "65940224cbd145bdb03922b4b92d3509",
            "40d4d2f4b76240a787dd88ee503aa092",
            "4d15d6308a9e4c519b5452f912cc97e2",
            "38ae38c432784cc7875c46748654337a",
            "f6bbd8e1115b495cb6fb05869053fd16",
            "708a57a257b548ee9fc8e3da0be1b0ed",
            "88754d2f51d540898b94bba68cf05ac8",
            "3f67a1cd48b94cfc8dcd25238aaa8061",
            "845611bf73d14c60b474310d5fca8b86",
            "8443cdae507745fe9287ed1ed729d945",
            "22527cbedb1e4eada0cbd59310a2c66a",
            "cc1380734c3a47a0890f5034937f7feb",
            "444823dffd9f429081924240f3d27548",
            "58d4091685f24d028a853407e214f259",
            "521595c589cc4fdb944264aa9d2b22e5",
            "811217d86dc448ccbaf0c958483a5c9c",
            "a9efe78755f14291957210d3d49e3609",
            "dc839c6f4f1a43818fc596a0dee3272c"
          ]
        },
        "id": "etH2yHgF01ij",
        "outputId": "e5830652-b666-4903-8870-009d277bf7bc"
      },
      "outputs": [
        {
          "output_type": "stream",
          "name": "stderr",
          "text": [
            "/usr/local/lib/python3.11/dist-packages/huggingface_hub/utils/_auth.py:94: UserWarning: \n",
            "The secret `HF_TOKEN` does not exist in your Colab secrets.\n",
            "To authenticate with the Hugging Face Hub, create a token in your settings tab (https://huggingface.co/settings/tokens), set it as secret in your Google Colab and restart your session.\n",
            "You will be able to reuse this secret in all of your notebooks.\n",
            "Please note that authentication is recommended but still optional to access public models or datasets.\n",
            "  warnings.warn(\n"
          ]
        },
        {
          "output_type": "display_data",
          "data": {
            "text/plain": [
              "README.md: 0.00B [00:00, ?B/s]"
            ],
            "application/vnd.jupyter.widget-view+json": {
              "version_major": 2,
              "version_minor": 0,
              "model_id": "00eac1395d6e4a35b29fc054eb1a6574"
            }
          },
          "metadata": {}
        },
        {
          "output_type": "display_data",
          "data": {
            "text/plain": [
              "Resolving data files:   0%|          | 0/52 [00:00<?, ?it/s]"
            ],
            "application/vnd.jupyter.widget-view+json": {
              "version_major": 2,
              "version_minor": 0,
              "model_id": "3f67a1cd48b94cfc8dcd25238aaa8061"
            }
          },
          "metadata": {}
        }
      ],
      "source": [
        "from datasets import load_dataset\n",
        "import tiktoken\n",
        "from itertools import islice\n",
        "\n",
        "ds_gutenberg = load_dataset(\"manu/project_gutenberg\", split=\"en\", streaming=True)"
      ]
    },
    {
      "cell_type": "markdown",
      "metadata": {
        "id": "LSSQuFPqFTT_"
      },
      "source": [
        "**Log into my Huggingface account**"
      ]
    },
    {
      "cell_type": "code",
      "execution_count": null,
      "metadata": {
        "id": "1j5Qsq1-FTT_"
      },
      "outputs": [],
      "source": [
        "%%capture\n",
        "!pip install huggingface_hub"
      ]
    },
    {
      "cell_type": "code",
      "execution_count": null,
      "metadata": {
        "colab": {
          "base_uri": "https://localhost:8080/",
          "height": 17,
          "referenced_widgets": [
            "670f8ac630db42f5aa3c9555071db5e7",
            "52c3926eef7543339c27a52069e61402",
            "454344128d18425296bb780e8fcc5ff3",
            "b1e1bc9f504a4b1ab227b9e5ed8bfe39",
            "901e58eca5724d409ab383ea9c691807",
            "9c7c7c19ebcc42119b6fc390b0375ecb",
            "8df55e0bea4d4ed2b84f936655634957",
            "1fbf2f66eacd4b059f089b27292b0152",
            "849c8076e1d740ad9cd119052c150f4f",
            "493bb9f068b0473aa5e001fe035472af",
            "9d8c8d8ff5644850b1235f72c557f9c9",
            "74e35fdc6c524d9f826ef24f7f11416f",
            "296e2db3b498452bb8658e2c9d0b68dd",
            "7b590e14c18d4ac692c5bd5f6d51a5f2",
            "28c56362152f454a8da120b1e64689f7",
            "3a323df34efe4ab6a0987ec73f738fd1",
            "1cf94531892e40fea6fee97a9aafc6e6",
            "7cda52a011ca47c39b334a9f5ada8980",
            "f2c3394a50224599b1dcf9f52a6f0444",
            "3ab90a9f134142b9ad1f45d6f453916e"
          ]
        },
        "id": "Lr61R0fEFTT_",
        "outputId": "0e0cec01-80b1-4c48-c14a-82e0ef748b44"
      },
      "outputs": [
        {
          "output_type": "display_data",
          "data": {
            "text/plain": [
              "VBox(children=(HTML(value='<center> <img\\nsrc=https://huggingface.co/front/assets/huggingface_logo-noborder.sv…"
            ],
            "application/vnd.jupyter.widget-view+json": {
              "version_major": 2,
              "version_minor": 0,
              "model_id": "670f8ac630db42f5aa3c9555071db5e7"
            }
          },
          "metadata": {}
        }
      ],
      "source": [
        "from huggingface_hub import notebook_login\n",
        "\n",
        "notebook_login()"
      ]
    },
    {
      "cell_type": "code",
      "execution_count": null,
      "metadata": {
        "colab": {
          "base_uri": "https://localhost:8080/"
        },
        "id": "Ed8SxqdpFTT_",
        "outputId": "0e9587fb-047a-4b20-e45b-0262b0e8ab2d"
      },
      "outputs": [
        {
          "output_type": "stream",
          "name": "stdout",
          "text": [
            "nikolina-p\n"
          ]
        }
      ],
      "source": [
        "!huggingface-cli whoami"
      ]
    },
    {
      "cell_type": "markdown",
      "metadata": {
        "id": "ypxBBYIeFTUA"
      },
      "source": [
        "**MAIN**"
      ]
    },
    {
      "cell_type": "code",
      "execution_count": null,
      "metadata": {
        "colab": {
          "base_uri": "https://localhost:8080/",
          "height": 1000
        },
        "id": "CuTJ2xTQjSA7",
        "outputId": "6272919d-29b6-4d89-8b43-bdcde1b8da39",
        "scrolled": true,
        "collapsed": true
      },
      "outputs": [
        {
          "output_type": "stream",
          "name": "stdout",
          "text": [
            "\n",
            "TRAINING loss average: 5.668\n",
            "                              Total tokens seen in training: 22528000\n",
            "\n",
            "\n",
            "VALIDATION loss 5.755\n",
            "Total tokens seen in validation: 2252800\n",
            "Cycle time: 289.3422212600708\n",
            "\n",
            "Saving checkpoint...199\n",
            "\n",
            "TRAINING loss average: 5.311\n",
            "                              Total tokens seen in training: 45056000\n",
            "\n",
            "\n",
            "VALIDATION loss 5.527\n",
            "Total tokens seen in validation: 4505600\n",
            "Cycle time: 217.07440662384033\n",
            "\n",
            "Saving checkpoint...429\n",
            "\n",
            "TRAINING loss average: 4.912\n",
            "                              Total tokens seen in training: 67584000\n",
            "\n",
            "\n",
            "VALIDATION loss 5.080\n",
            "Total tokens seen in validation: 6758400\n",
            "Cycle time: 217.12939167022705\n",
            "\n",
            "Saving checkpoint...633\n",
            "Saving model after KeyboardInterrupt\n",
            "Saving checkpoint...642\n",
            "TOTAL TOKENS: 75716608\n",
            "LOSSES: 4.912260055541992/5.080458164215088\n"
          ]
        },
        {
          "output_type": "display_data",
          "data": {
            "text/plain": [
              "<Figure size 800x500 with 1 Axes>"
            ],
            "image/png": "[encoded data removed]"
          },
          "metadata": {}
        },
        {
          "output_type": "stream",
          "name": "stdout",
          "text": [
            "Training completed in 12.72 minutes.\n"
          ]
        }
      ],
      "source": [
        "import pdb\n",
        "import time\n",
        "import itertools\n",
        "\n",
        "start_time = time.time()\n",
        "\n",
        "torch.manual_seed(123)\n",
        "torch.set_float32_matmul_precision('high') # current GPU supports TensorFloat-32\n",
        "\n",
        "model = GPTModel(GPT_CONFIG_124M)\n",
        "model.compile()\n",
        "\n",
        "# load model from the HUB\n",
        "# model = GPTModel.from_pretrained(\"nikolina-p/GPT_from_scratc_5_books\")\n",
        "# print(f\">>> Model from HF vocab size: {model.tok_emb.num_embeddings}\")\n",
        "\n",
        "device = torch.device(\"cuda\" if torch.cuda.is_available() else \"cpu\")\n",
        "model.to(device)\n",
        "\n",
        "optimizer = torch.optim.AdamW(model.parameters(), lr=0.0004, weight_decay=0.1)\n",
        "mix_prec = True\n",
        "scaler = torch.amp.GradScaler(\"cuda\", enabled=mix_prec) # set True/False to use mixed precision\n",
        "\n",
        "tokenizer = tiktoken.get_encoding(\"gpt2\")\n",
        "streaming_dataset = StreamingDataset(ds_gutenberg, tokenizer, context_size=GPT_CONFIG_124M['context_length'])\n",
        "\n",
        "loader = DataLoader(streaming_dataset,\n",
        "                    batch_size=44,\n",
        "                    drop_last=True,\n",
        "                    num_workers=2,\n",
        "                    pin_memory=True\n",
        "                   )\n",
        "\n",
        "train_losses, valid_losses, tokens_train, tokens_valid = train_model_streaming_A100(model,\n",
        "                                                                                        loader,\n",
        "                                                                                        optimizer,\n",
        "                                                                                        scaler,\n",
        "                                                                                        mix_prec,\n",
        "                                                                                        device,\n",
        "                                                                                        num_epoch=1,\n",
        "                                                                                        training_batches=1000,\n",
        "                                                                                        val_ratio=0.1\n",
        "                                                                                        )\n",
        "\n",
        "\n",
        "end_time = time.time()\n",
        "execution_time_minutes = (end_time - start_time) / 60\n",
        "print(f\"Training completed in {execution_time_minutes:.2f} minutes.\")"
      ]
    },
    {
      "cell_type": "code",
      "execution_count": null,
      "metadata": {
        "id": "Mk6rorCvFTUA",
        "colab": {
          "base_uri": "https://localhost:8080/"
        },
        "outputId": "5312d406-42b7-412e-a8d9-dad5a580f408"
      },
      "outputs": [
        {
          "output_type": "stream",
          "name": "stdout",
          "text": [
            "/content\n"
          ]
        }
      ],
      "source": [
        "!pwd"
      ]
    },
    {
      "cell_type": "markdown",
      "metadata": {
        "id": "yud4ntdOFTUA"
      },
      "source": [
        "#### **Postprocessing**\n",
        "- save training results into permanent file\n",
        "- printing loses and number of processed tokens per cycle\n",
        "- upload the model to Huggingface Hub"
      ]
    },
    {
      "cell_type": "code",
      "source": [
        "from google.colab import drive\n",
        "\n",
        "drive.mount('/content/drive')\n",
        "\n",
        "report_path = \"/content/drive/MyDrive/train_log.txt\"\n",
        "\n",
        "with open(report_path, \"a\") as f:\n",
        "    f.write(\"New training run:\\n\")\n",
        "    f.write(\"Tokens seen: 4,000,000\\n\")\n",
        "    f.write(\"Train loss: 5.32\\n\")\n",
        "    f.write(\"Val loss: 5.01\\n\\n\")"
      ],
      "metadata": {
        "id": "sVq4IhzE0KYD"
      },
      "execution_count": null,
      "outputs": []
    },
    {
      "cell_type": "markdown",
      "metadata": {
        "id": "ENNZCx2iFTUB"
      },
      "source": [
        "**Load a model from a checkpoint**"
      ]
    },
    {
      "cell_type": "code",
      "execution_count": null,
      "metadata": {
        "id": "1BmOKizJFTUO"
      },
      "outputs": [],
      "source": [
        "device = torch.device(\"cuda\" if torch.cuda.is_available() else \"cpu\")\n",
        "\n",
        "model_ch91, optimizer_ch91 = load_checkpoint(\"checkpoint_cycle_91.pth\", GPT_CONFIG_124M_test)\n",
        "\n",
        "train_losses = [7.5] # dummy\n",
        "valid_losses = [6.5] # dummy"
      ]
    },
    {
      "cell_type": "markdown",
      "metadata": {
        "id": "-sBQJ7WRFTUP"
      },
      "source": [
        "**Push the model to the Huggingface Hub**\n",
        "- prepare the model card\n",
        "- save the PyTorch model with Hugingface save_pretrained() function. I used Huggingface PyTorchModelHubMixin class for this - my PyTorch model extends this class and so gets the functionalities like `from_pretrained` and `push_to_hub`.\n",
        "- push the model and the card to the Hub"
      ]
    },
    {
      "cell_type": "code",
      "execution_count": null,
      "metadata": {
        "colab": {
          "base_uri": "https://localhost:8080/"
        },
        "id": "Lq98r7SYFTUP",
        "outputId": "c48fa61e-b233-4d1a-d351-552755a9436b"
      },
      "outputs": [
        {
          "output_type": "stream",
          "name": "stdout",
          "text": [
            "---\n",
            "language: en\n",
            "library_name: torch\n",
            "license: mit\n",
            "---\n",
            "\n",
            "This model is GPT model created from scratch with following configuration:\n",
            "\n",
            "\tvocab_size: 50257\n",
            "context_length: 512\n",
            "emb_dim: 768\n",
            "n_heads: 12\n",
            "n_layers: 12\n",
            "drop_rate: 0.1\n",
            "qkv_bias: false\n",
            "\n",
            "\n",
            "Test dataset used for training and validation is one book from manu/project_gutenberg dataset, English split.\n",
            "It is trained for 4.6 minutes in Google Colab on A100 GPU. Total tokens seen in training: 177900. \n",
            "Total tokens seen in validation: 152700\n",
            "\n",
            "It acheives following results:\n",
            "- Training loss: 5.964\n",
            "- Validation loss: 6.939\n",
            "\n"
          ]
        }
      ],
      "source": [
        "import yaml\n",
        "from huggingface_hub import ModelCard, ModelCardData\n",
        "\n",
        "card_data = ModelCardData(language='en', license='mit', library_name='torch')\n",
        "\n",
        "content = f\"\"\"\\\n",
        "---\n",
        "{ card_data.to_yaml() }\n",
        "---\n",
        "\n",
        "This model is GPT model created from scratch with following configuration:\\n\n",
        "\\t{yaml.dump(GPT_CONFIG_124M, sort_keys=False)}\n",
        "\n",
        "Test dataset used for training and validation is one book from manu/project_gutenberg dataset, English split.\n",
        "It is trained for 4.6 minutes in Google Colab on A100 GPU. Total tokens seen in training: 177900.\n",
        "Total tokens seen in validation: 152700.\n",
        "\n",
        "It acheives following results:\n",
        "- Training loss: {train_losses[-1]:.3f}\n",
        "- Validation loss: {valid_losses[-1]:.3f}\n",
        "\"\"\"\n",
        "\n",
        "card = ModelCard(content)\n",
        "print(card)"
      ]
    },
    {
      "cell_type": "code",
      "execution_count": null,
      "metadata": {
        "id": "Qfnck68TFTUP"
      },
      "outputs": [],
      "source": [
        "model.save_pretrained(\"GPT_from_scratc_workers_2\")"
      ]
    },
    {
      "cell_type": "code",
      "source": [
        "talk_to_me(model, \"Hello there\", 15, 256, tokenizer, device)"
      ],
      "metadata": {
        "colab": {
          "base_uri": "https://localhost:8080/",
          "height": 36
        },
        "id": "vIGb5ioUdUEP",
        "outputId": "6444979c-17a8-4fbd-8792-bd328c17ca0d"
      },
      "execution_count": null,
      "outputs": [
        {
          "output_type": "execute_result",
          "data": {
            "text/plain": [
              "'Hello there.\\n\\n\\n\\n\\n\\n\\n\\n\\n\\n\\n\\n\\n\\n'"
            ],
            "application/vnd.google.colaboratory.intrinsic+json": {
              "type": "string"
            }
          },
          "metadata": {},
          "execution_count": 30
        }
      ]
    },
    {
      "cell_type": "code",
      "execution_count": null,
      "metadata": {
        "colab": {
          "base_uri": "https://localhost:8080/",
          "height": 174,
          "referenced_widgets": [
            "fb245e999aa94d1681cda39bba5cf6b2",
            "37519cf856e846449db4f7b3100e8253",
            "6877669adb68479483500c6c686a516c",
            "0ec241caaae549bc89363195cbe0749c",
            "e5edfc78d99c45ec9f9b3e3cbfd0dfab",
            "556b49392733496a87f95a4c5dce9d6e",
            "5b17e205f9074fd881661813067b86ef",
            "11b1a2a8b3664cacb09b1ebbe813fac5",
            "8a4771ca53cb460988262005b35f15b7",
            "029ecdc7e9f648338aa594ba0230d79b",
            "1665e5188b9047528b343315c72021e8"
          ]
        },
        "id": "IzLv_i9JFTUP",
        "outputId": "0fe6ddf0-b1a6-43b2-c37c-d10f3429e107"
      },
      "outputs": [
        {
          "output_type": "display_data",
          "data": {
            "text/plain": [
              "model.safetensors:   0%|          | 0.00/663M [00:00<?, ?B/s]"
            ],
            "application/vnd.jupyter.widget-view+json": {
              "version_major": 2,
              "version_minor": 0,
              "model_id": "fb245e999aa94d1681cda39bba5cf6b2"
            }
          },
          "metadata": {}
        },
        {
          "output_type": "execute_result",
          "data": {
            "text/plain": [
              "CommitInfo(commit_url='https://huggingface.co/nikolina-p/GPT_from_scratc_5_books/commit/9cd8ce04d843ff13122e72adc1abf1262b8adf40', commit_message='Uploaded model - 5 books.', commit_description='', oid='9cd8ce04d843ff13122e72adc1abf1262b8adf40', pr_url=None, repo_url=RepoUrl('https://huggingface.co/nikolina-p/GPT_from_scratc_5_books', endpoint='https://huggingface.co', repo_type='model', repo_id='nikolina-p/GPT_from_scratc_5_books'), pr_revision=None, pr_num=None)"
            ],
            "application/vnd.google.colaboratory.intrinsic+json": {
              "type": "string"
            }
          },
          "metadata": {},
          "execution_count": 27
        }
      ],
      "source": [
        "model.push_to_hub(\n",
        "    repo_id=\"nikolina-p/GPT_from_scratc_workers_2\",\n",
        "    commit_message=\"Uploaded model trained with 2 workers.\",\n",
        "    )\n"
      ]
    },
    {
      "cell_type": "code",
      "execution_count": null,
      "metadata": {
        "colab": {
          "base_uri": "https://localhost:8080/",
          "height": 142
        },
        "id": "Zcnv8MZXFTUP",
        "outputId": "170027c2-1930-453a-aeb7-92802a11f067"
      },
      "outputs": [
        {
          "output_type": "execute_result",
          "data": {
            "text/plain": [
              "CommitInfo(commit_url='https://huggingface.co/nikolina-p/GPT_from_scratc_5_books/commit/34509e355bc4e7ad69fa50c043674136c4898745', commit_message='Upload README.md with huggingface_hub', commit_description='', oid='34509e355bc4e7ad69fa50c043674136c4898745', pr_url=None, repo_url=RepoUrl('https://huggingface.co/nikolina-p/GPT_from_scratc_5_books', endpoint='https://huggingface.co', repo_type='model', repo_id='nikolina-p/GPT_from_scratc_5_books'), pr_revision=None, pr_num=None)"
            ],
            "application/vnd.google.colaboratory.intrinsic+json": {
              "type": "string"
            }
          },
          "metadata": {},
          "execution_count": 28
        }
      ],
      "source": [
        "card.push_to_hub(\"nikolina-p/GPT_from_scratc_5_books\")"
      ]
    },
    {
      "cell_type": "markdown",
      "metadata": {
        "id": "pW1fSkYBFTUP"
      },
      "source": [
        "## **TESTING...**"
      ]
    },
    {
      "cell_type": "code",
      "execution_count": null,
      "metadata": {
        "id": "fUZWGLe-4dUC"
      },
      "outputs": [],
      "source": [
        "GPT_CONFIG_124M_test = {\n",
        "    \"vocab_size\": 50257, # Vocabulary size\n",
        "    \"context_length\": 50, # Context length\n",
        "    \"emb_dim\": 768, # Embedding dimension\n",
        "    \"n_heads\": 12, # Number of attention heads\n",
        "    \"n_layers\": 12, # Number of layers\n",
        "    \"drop_rate\": 0.1, # Dropout rate\n",
        "    \"qkv_bias\": False # Query-Key-Value bias\n",
        "}\n"
      ]
    },
    {
      "cell_type": "code",
      "execution_count": null,
      "metadata": {
        "id": "0p297kFjFTUR"
      },
      "outputs": [],
      "source": [
        "# saving a book for testing\n",
        "import os\n",
        "\n",
        "book = next(iter(ds_gutenberg))\n",
        "\n",
        "with open(\"book.txt\", \"w\", encoding=\"utf-8\") as f:\n",
        "    f.write(book[\"text\"])"
      ]
    },
    {
      "cell_type": "code",
      "execution_count": null,
      "metadata": {
        "id": "y8ZVQNPrFTUR"
      },
      "outputs": [],
      "source": [
        "# json line file, one line - one book\n",
        "import json\n",
        "\n",
        "test_dataset = []\n",
        "\n",
        "with open(\"book.txt\", \"r\", encoding=\"utf-8\") as f:\n",
        "    text = f.read()\n",
        "    for i in range(100):\n",
        "        start = 4000 + i*1000\n",
        "        end = 5000 + i*1000\n",
        "        chunk = text[start:end]\n",
        "        if chunk.strip():  # skip empty lines\n",
        "            test_dataset.append({\"id\": i, \"text\": chunk})\n",
        "\n",
        "with open(\"test_dataset.jsonl\", \"w\", encoding=\"utf-8\") as f:\n",
        "    for example in test_dataset:\n",
        "        f.write(json.dumps(example, ensure_ascii=False) + \"\\n\")"
      ]
    },
    {
      "cell_type": "code",
      "source": [
        "with open(\"test_dataset.jsonl\", \"r\", encoding=\"utf-8\") as f:\n",
        "    x = f.readline()\n",
        "    print(x)\n",
        "    data = json.loads(x)\n",
        "    print(len(data[\"text\"].split()))\n"
      ],
      "metadata": {
        "colab": {
          "base_uri": "https://localhost:8080/"
        },
        "id": "NoQ9C712nyXA",
        "outputId": "8690acef-877f-4b33-baaa-b939ab0ebffa"
      },
      "execution_count": null,
      "outputs": [
        {
          "output_type": "stream",
          "name": "stdout",
          "text": [
            "{\"id\": 0, \"text\": \"provides the biographer with\\nthe scantiest materials is Addison. In his _Journal to Stella_, his social\\nverses, and his letters to his friends, we have a vivid picture of those\\nrelations with women and that protracted suffering which invest with such\\ntragic interest the history of Swift. Pope, by the publication of his own\\ncorrespondence, has enabled us, in a way that he never intended, to\\nunderstand the strange moral twist which distorted a nature by no means\\ndevoid of noble instincts. Johnson was fortunate in the companionship of\\nperhaps the best biographer who ever lived. But of the real life and\\ncharacter of Addison scarcely any contemporary record remains. The formal\\nnarrative prefixed to his works by Tickell is, by that writer's own\\nadmission, little more than a bibliography. Steele, who might have told us\\nmore than any man about his boyhood and his manner of life in London, had\\nbecome estranged from his old friend before his death. No writer has\\ntaken the trouble to preserve any\"}\n",
            "\n",
            "169\n"
          ]
        }
      ]
    },
    {
      "cell_type": "code",
      "execution_count": null,
      "metadata": {
        "id": "Hb6W0wn6FTUR",
        "colab": {
          "base_uri": "https://localhost:8080/"
        },
        "outputId": "e2985819-79fe-4341-d503-5ee9d6810907"
      },
      "outputs": [
        {
          "output_type": "stream",
          "name": "stdout",
          "text": [
            "358423\n"
          ]
        }
      ],
      "source": [
        "with open(\"book.txt\", \"r\", encoding=\"utf-8\") as f:\n",
        "    text = f.read()\n",
        "    print(len(text))"
      ]
    },
    {
      "cell_type": "code",
      "execution_count": null,
      "metadata": {
        "id": "hT1USRbrFTUP",
        "colab": {
          "base_uri": "https://localhost:8080/",
          "height": 49,
          "referenced_widgets": [
            "5fd4317a0f6d4dce8b340ae36fa7106d",
            "2295ab2a2a5145a181d63112d11c1733",
            "1e64c48b1d984292ab1b343fc7121747",
            "ed0ac5c656834b188142f8edf6aeecce",
            "3b3acc87a3d143c0926898a87bba497e",
            "116303c9f8f74bfdb74216349d1691e1",
            "c39efed4b8ee41f7afd7cf50a6f6b6b0",
            "f7e7da7fe4044317a37a77e60ec4c3f4",
            "80ec6870f41a4935b0888f08b90a7ac7",
            "f49254f2f6fd43a690693b22c5c6944b",
            "1bfdbfd1864f40c0b7e2f7a7c700b3cc"
          ]
        },
        "outputId": "c7599885-4871-4ba8-dc1e-328f8fe94316"
      },
      "outputs": [
        {
          "output_type": "display_data",
          "data": {
            "text/plain": [
              "Generating train split: 0 examples [00:00, ? examples/s]"
            ],
            "application/vnd.jupyter.widget-view+json": {
              "version_major": 2,
              "version_minor": 0,
              "model_id": "5fd4317a0f6d4dce8b340ae36fa7106d"
            }
          },
          "metadata": {}
        }
      ],
      "source": [
        "# load test dataset\n",
        "from datasets import load_dataset\n",
        "import tiktoken\n",
        "\n",
        "test_gutenberg = load_dataset(\"json\", data_files=\"test_dataset.jsonl\")"
      ]
    },
    {
      "cell_type": "code",
      "execution_count": null,
      "metadata": {
        "id": "w1_ZGWp8FTUQ"
      },
      "outputs": [],
      "source": [
        "stream_clean = iter(BookStreamProcessor(test_gutenberg))\n",
        "\n",
        "tokenizer = tiktoken.get_encoding(\"gpt2\")\n",
        "\n",
        "streaming_dataset = StreamingDataset(stream_clean, tokenizer)\n",
        "\n",
        "ldr = create_dataloader_streaming(streaming_dataset)\n",
        "\n",
        "i = 0\n",
        "for sgnl, i_idx, t_idx in ldr:\n",
        "    print (f\"{i_idx}\\t{t_idx}\")"
      ]
    },
    {
      "cell_type": "code",
      "execution_count": null,
      "metadata": {
        "id": "F9H2ATSbFTUQ"
      },
      "outputs": [],
      "source": [
        "stream_clean = iter(BookStreamProcessor(test_gutenberg))\n",
        "\n",
        "tokenizer = tiktoken.get_encoding(\"gpt2\")\n",
        "\n",
        "streaming_dataset = StreamingDataset(stream_clean, tokenizer)\n",
        "\n",
        "# hocu da isprintam 9 knjiga za trenig, 1 knjigu za val\n",
        "def dummy_train(streaming_dataset):\n",
        "    d_loader = iter(streaming_dataset)\n",
        "\n",
        "    while(True):\n",
        "        try:\n",
        "            i_ids, t_ids, sgn = next(d_loader)\n",
        "            if sgn == \"t\":\n",
        "                print(f\"Training: \\n{i_ids}\\n{t_ids}\")\n",
        "            elif sgn == \"v\":\n",
        "                print(f\"Validation: \\n{i_ids}\\n{t_ids}\")\n",
        "            else:\n",
        "                print(\"Wrong signal\")\n",
        "        except StopIteration:\n",
        "                print(\"Loader exauster. End of training\")\n",
        "                break\n",
        "\n",
        "dummy_train(streaming_dataset)"
      ]
    },
    {
      "cell_type": "code",
      "execution_count": null,
      "metadata": {
        "id": "kYTRnhbnFTUQ"
      },
      "outputs": [],
      "source": [
        "save_checkpoint(model, optimizer, 1)"
      ]
    },
    {
      "cell_type": "markdown",
      "metadata": {
        "id": "fAjLR9b0FTUQ"
      },
      "source": [
        "## **Understanding islice and iterators**"
      ]
    },
    {
      "cell_type": "code",
      "execution_count": null,
      "metadata": {
        "id": "eW8MHwoUFTUQ"
      },
      "outputs": [],
      "source": []
    },
    {
      "cell_type": "code",
      "execution_count": null,
      "metadata": {
        "id": "U_dGagujsWsQ"
      },
      "outputs": [],
      "source": [
        "# not a smart solution, just for exploration of streams\n",
        "from itertools import tee, islice\n",
        "\n",
        "books = range(27)\n",
        "\n",
        "def load(iterable):\n",
        "    stream1, stream2 = tee(iterable)\n",
        "    book_count = 0\n",
        "\n",
        "    while(True):\n",
        "        train = list(islice(stream1, 0, 3))[:-1]\n",
        "        if len(train) < 2:\n",
        "            break\n",
        "\n",
        "        valid = list(islice(stream2, 3))[-1:]\n",
        "        if not valid:\n",
        "            break\n",
        "\n",
        "        book_count += (len(train) + len(valid))\n",
        "        print(f\"Books downloaded: {book_count}\")\n",
        "\n",
        "        yield train, valid\n",
        "\n",
        "\n",
        "loader = load(books)\n",
        "for t, v in loader:\n",
        "    print(t,v)"
      ]
    },
    {
      "cell_type": "markdown",
      "metadata": {
        "id": "rt7-UGV-FTUR"
      },
      "source": [
        "90.000 tokena\n",
        "context_size = 256\n",
        "oko 350 start indexa - chunkova indexa"
      ]
    },
    {
      "cell_type": "code",
      "execution_count": null,
      "metadata": {
        "id": "a-T9vD2AFTUR"
      },
      "outputs": [],
      "source": [
        "90000/256"
      ]
    },
    {
      "cell_type": "markdown",
      "metadata": {
        "id": "3KBJUEhsFTUR"
      },
      "source": [
        "**Kako radi islice()**"
      ]
    },
    {
      "cell_type": "code",
      "execution_count": null,
      "metadata": {
        "id": "TgkksnOmFTUR",
        "colab": {
          "base_uri": "https://localhost:8080/"
        },
        "outputId": "dde0cc0f-746d-42ef-dda3-20a3f12c78b8"
      },
      "outputs": [
        {
          "output_type": "execute_result",
          "data": {
            "text/plain": [
              "<itertools.chain at 0x7bed40f905b0>"
            ]
          },
          "metadata": {},
          "execution_count": 2
        }
      ],
      "source": [
        "import itertools\n",
        "\n",
        "\n",
        "data1 = range(10)\n",
        "\n",
        "# This creates a NEW list\n",
        "data1[2:5]\n",
        "\n",
        "# This creates an iterator that iterates over the EXISTING list\n",
        "itertools.islice(data1, 2, 5)\n",
        "\n",
        "\n",
        "data2 = [1, 2, 3]\n",
        "data3 = [4, 5, 6]\n",
        "\n",
        "# This creates a NEW list\n",
        "data2 + data3\n",
        "\n",
        "# This creates an iterator that iterates over the EXISTING lists\n",
        "itertools.chain(data2, data3)"
      ]
    },
    {
      "cell_type": "code",
      "execution_count": null,
      "metadata": {
        "id": "ulHuK6PSFTUS",
        "colab": {
          "base_uri": "https://localhost:8080/"
        },
        "outputId": "0c5454c2-da68-42ad-9aca-cd8d89fe7c3c"
      },
      "outputs": [
        {
          "output_type": "stream",
          "name": "stdout",
          "text": [
            "1 2 5 6 9 10 "
          ]
        }
      ],
      "source": [
        "def two_then_skip_two(iterable):\n",
        "    \"\"\"\n",
        "    Returns an iterator that yields two elements from the input iterable,\n",
        "    then skips two, and repeats until exhausted.\n",
        "    \"\"\"\n",
        "    iterator = iter(iterable)\n",
        "    while True:\n",
        "        try:\n",
        "            yield from itertools.islice(iterator, 2)\n",
        "            next(itertools.islice(iterator, 1, 2)) # Skip 2 elements\n",
        "        except StopIteration:\n",
        "            break\n",
        "\n",
        "# Example Usage\n",
        "my_list = [1, 2, 3, 4, 5, 6, 7, 8, 9, 10]\n",
        "for item in two_then_skip_two(my_list):\n",
        "    print(item, end=\" \")"
      ]
    },
    {
      "cell_type": "code",
      "source": [
        "from itertools import islice, tee\n",
        "\n",
        "stream = iter(range(20))\n",
        "s0, s1 = tee(stream)\n",
        "w0 = islice(s0, 0, None, 2)\n",
        "w1 = islice(s1, 1, None, 2)\n",
        "\n",
        "for w in w0:\n",
        "    print(w, end=\" \")\n",
        "print(\"***\")\n",
        "for w in w1:\n",
        "    print(w, end=\" \")"
      ],
      "metadata": {
        "id": "0jcO5ZFreXwO",
        "colab": {
          "base_uri": "https://localhost:8080/"
        },
        "outputId": "2459dbab-3b50-4e29-eb44-56a1f110775c"
      },
      "execution_count": null,
      "outputs": [
        {
          "output_type": "stream",
          "name": "stdout",
          "text": [
            "0 2 4 6 8 10 12 14 16 18 ***\n",
            "1 3 5 7 9 11 13 15 17 19 "
          ]
        }
      ]
    },
    {
      "cell_type": "code",
      "source": [],
      "metadata": {
        "id": "m3ewT0preyG4"
      },
      "execution_count": null,
      "outputs": []
    }
  ],
  "metadata": {
    "colab": {
      "provenance": [],
      "collapsed_sections": [
        "MF9nzPIqmc6v",
        "HpK8nXWqZwlQ",
        "oI-BIKTqFTT-"
      ],
      "include_colab_link": true
    },
    "kernelspec": {
      "display_name": "Python 3",
      "name": "python3"
    },
    "language_info": {
      "codemirror_mode": {
        "name": "ipython",
        "version": 3
      },
      "file_extension": ".py",
      "mimetype": "text/x-python",
      "name": "python",
      "nbconvert_exporter": "python",
      "pygments_lexer": "ipython3",
      "version": "3.13.2"
    },
    "widgets": {
      "application/vnd.jupyter.widget-state+json": {
        "fb245e999aa94d1681cda39bba5cf6b2": {
          "model_module": "@jupyter-widgets/controls",
          "model_name": "HBoxModel",
          "model_module_version": "1.5.0",
          "state": {
            "_dom_classes": [],
            "_model_module": "@jupyter-widgets/controls",
            "_model_module_version": "1.5.0",
            "_model_name": "HBoxModel",
            "_view_count": null,
            "_view_module": "@jupyter-widgets/controls",
            "_view_module_version": "1.5.0",
            "_view_name": "HBoxView",
            "box_style": "",
            "children": [
              "IPY_MODEL_37519cf856e846449db4f7b3100e8253",
              "IPY_MODEL_6877669adb68479483500c6c686a516c",
              "IPY_MODEL_0ec241caaae549bc89363195cbe0749c"
            ],
            "layout": "IPY_MODEL_e5edfc78d99c45ec9f9b3e3cbfd0dfab"
          }
        },
        "37519cf856e846449db4f7b3100e8253": {
          "model_module": "@jupyter-widgets/controls",
          "model_name": "HTMLModel",
          "model_module_version": "1.5.0",
          "state": {
            "_dom_classes": [],
            "_model_module": "@jupyter-widgets/controls",
            "_model_module_version": "1.5.0",
            "_model_name": "HTMLModel",
            "_view_count": null,
            "_view_module": "@jupyter-widgets/controls",
            "_view_module_version": "1.5.0",
            "_view_name": "HTMLView",
            "description": "",
            "description_tooltip": null,
            "layout": "IPY_MODEL_556b49392733496a87f95a4c5dce9d6e",
            "placeholder": "​",
            "style": "IPY_MODEL_5b17e205f9074fd881661813067b86ef",
            "value": "model.safetensors: 100%"
          }
        },
        "6877669adb68479483500c6c686a516c": {
          "model_module": "@jupyter-widgets/controls",
          "model_name": "FloatProgressModel",
          "model_module_version": "1.5.0",
          "state": {
            "_dom_classes": [],
            "_model_module": "@jupyter-widgets/controls",
            "_model_module_version": "1.5.0",
            "_model_name": "FloatProgressModel",
            "_view_count": null,
            "_view_module": "@jupyter-widgets/controls",
            "_view_module_version": "1.5.0",
            "_view_name": "ProgressView",
            "bar_style": "success",
            "description": "",
            "description_tooltip": null,
            "layout": "IPY_MODEL_11b1a2a8b3664cacb09b1ebbe813fac5",
            "max": 663065456,
            "min": 0,
            "orientation": "horizontal",
            "style": "IPY_MODEL_8a4771ca53cb460988262005b35f15b7",
            "value": 663065456
          }
        },
        "0ec241caaae549bc89363195cbe0749c": {
          "model_module": "@jupyter-widgets/controls",
          "model_name": "HTMLModel",
          "model_module_version": "1.5.0",
          "state": {
            "_dom_classes": [],
            "_model_module": "@jupyter-widgets/controls",
            "_model_module_version": "1.5.0",
            "_model_name": "HTMLModel",
            "_view_count": null,
            "_view_module": "@jupyter-widgets/controls",
            "_view_module_version": "1.5.0",
            "_view_name": "HTMLView",
            "description": "",
            "description_tooltip": null,
            "layout": "IPY_MODEL_029ecdc7e9f648338aa594ba0230d79b",
            "placeholder": "​",
            "style": "IPY_MODEL_1665e5188b9047528b343315c72021e8",
            "value": " 663M/663M [00:29&lt;00:00, 26.8MB/s]"
          }
        },
        "e5edfc78d99c45ec9f9b3e3cbfd0dfab": {
          "model_module": "@jupyter-widgets/base",
          "model_name": "LayoutModel",
          "model_module_version": "1.2.0",
          "state": {
            "_model_module": "@jupyter-widgets/base",
            "_model_module_version": "1.2.0",
            "_model_name": "LayoutModel",
            "_view_count": null,
            "_view_module": "@jupyter-widgets/base",
            "_view_module_version": "1.2.0",
            "_view_name": "LayoutView",
            "align_content": null,
            "align_items": null,
            "align_self": null,
            "border": null,
            "bottom": null,
            "display": null,
            "flex": null,
            "flex_flow": null,
            "grid_area": null,
            "grid_auto_columns": null,
            "grid_auto_flow": null,
            "grid_auto_rows": null,
            "grid_column": null,
            "grid_gap": null,
            "grid_row": null,
            "grid_template_areas": null,
            "grid_template_columns": null,
            "grid_template_rows": null,
            "height": null,
            "justify_content": null,
            "justify_items": null,
            "left": null,
            "margin": null,
            "max_height": null,
            "max_width": null,
            "min_height": null,
            "min_width": null,
            "object_fit": null,
            "object_position": null,
            "order": null,
            "overflow": null,
            "overflow_x": null,
            "overflow_y": null,
            "padding": null,
            "right": null,
            "top": null,
            "visibility": null,
            "width": null
          }
        },
        "556b49392733496a87f95a4c5dce9d6e": {
          "model_module": "@jupyter-widgets/base",
          "model_name": "LayoutModel",
          "model_module_version": "1.2.0",
          "state": {
            "_model_module": "@jupyter-widgets/base",
            "_model_module_version": "1.2.0",
            "_model_name": "LayoutModel",
            "_view_count": null,
            "_view_module": "@jupyter-widgets/base",
            "_view_module_version": "1.2.0",
            "_view_name": "LayoutView",
            "align_content": null,
            "align_items": null,
            "align_self": null,
            "border": null,
            "bottom": null,
            "display": null,
            "flex": null,
            "flex_flow": null,
            "grid_area": null,
            "grid_auto_columns": null,
            "grid_auto_flow": null,
            "grid_auto_rows": null,
            "grid_column": null,
            "grid_gap": null,
            "grid_row": null,
            "grid_template_areas": null,
            "grid_template_columns": null,
            "grid_template_rows": null,
            "height": null,
            "justify_content": null,
            "justify_items": null,
            "left": null,
            "margin": null,
            "max_height": null,
            "max_width": null,
            "min_height": null,
            "min_width": null,
            "object_fit": null,
            "object_position": null,
            "order": null,
            "overflow": null,
            "overflow_x": null,
            "overflow_y": null,
            "padding": null,
            "right": null,
            "top": null,
            "visibility": null,
            "width": null
          }
        },
        "5b17e205f9074fd881661813067b86ef": {
          "model_module": "@jupyter-widgets/controls",
          "model_name": "DescriptionStyleModel",
          "model_module_version": "1.5.0",
          "state": {
            "_model_module": "@jupyter-widgets/controls",
            "_model_module_version": "1.5.0",
            "_model_name": "DescriptionStyleModel",
            "_view_count": null,
            "_view_module": "@jupyter-widgets/base",
            "_view_module_version": "1.2.0",
            "_view_name": "StyleView",
            "description_width": ""
          }
        },
        "11b1a2a8b3664cacb09b1ebbe813fac5": {
          "model_module": "@jupyter-widgets/base",
          "model_name": "LayoutModel",
          "model_module_version": "1.2.0",
          "state": {
            "_model_module": "@jupyter-widgets/base",
            "_model_module_version": "1.2.0",
            "_model_name": "LayoutModel",
            "_view_count": null,
            "_view_module": "@jupyter-widgets/base",
            "_view_module_version": "1.2.0",
            "_view_name": "LayoutView",
            "align_content": null,
            "align_items": null,
            "align_self": null,
            "border": null,
            "bottom": null,
            "display": null,
            "flex": null,
            "flex_flow": null,
            "grid_area": null,
            "grid_auto_columns": null,
            "grid_auto_flow": null,
            "grid_auto_rows": null,
            "grid_column": null,
            "grid_gap": null,
            "grid_row": null,
            "grid_template_areas": null,
            "grid_template_columns": null,
            "grid_template_rows": null,
            "height": null,
            "justify_content": null,
            "justify_items": null,
            "left": null,
            "margin": null,
            "max_height": null,
            "max_width": null,
            "min_height": null,
            "min_width": null,
            "object_fit": null,
            "object_position": null,
            "order": null,
            "overflow": null,
            "overflow_x": null,
            "overflow_y": null,
            "padding": null,
            "right": null,
            "top": null,
            "visibility": null,
            "width": null
          }
        },
        "8a4771ca53cb460988262005b35f15b7": {
          "model_module": "@jupyter-widgets/controls",
          "model_name": "ProgressStyleModel",
          "model_module_version": "1.5.0",
          "state": {
            "_model_module": "@jupyter-widgets/controls",
            "_model_module_version": "1.5.0",
            "_model_name": "ProgressStyleModel",
            "_view_count": null,
            "_view_module": "@jupyter-widgets/base",
            "_view_module_version": "1.2.0",
            "_view_name": "StyleView",
            "bar_color": null,
            "description_width": ""
          }
        },
        "029ecdc7e9f648338aa594ba0230d79b": {
          "model_module": "@jupyter-widgets/base",
          "model_name": "LayoutModel",
          "model_module_version": "1.2.0",
          "state": {
            "_model_module": "@jupyter-widgets/base",
            "_model_module_version": "1.2.0",
            "_model_name": "LayoutModel",
            "_view_count": null,
            "_view_module": "@jupyter-widgets/base",
            "_view_module_version": "1.2.0",
            "_view_name": "LayoutView",
            "align_content": null,
            "align_items": null,
            "align_self": null,
            "border": null,
            "bottom": null,
            "display": null,
            "flex": null,
            "flex_flow": null,
            "grid_area": null,
            "grid_auto_columns": null,
            "grid_auto_flow": null,
            "grid_auto_rows": null,
            "grid_column": null,
            "grid_gap": null,
            "grid_row": null,
            "grid_template_areas": null,
            "grid_template_columns": null,
            "grid_template_rows": null,
            "height": null,
            "justify_content": null,
            "justify_items": null,
            "left": null,
            "margin": null,
            "max_height": null,
            "max_width": null,
            "min_height": null,
            "min_width": null,
            "object_fit": null,
            "object_position": null,
            "order": null,
            "overflow": null,
            "overflow_x": null,
            "overflow_y": null,
            "padding": null,
            "right": null,
            "top": null,
            "visibility": null,
            "width": null
          }
        },
        "1665e5188b9047528b343315c72021e8": {
          "model_module": "@jupyter-widgets/controls",
          "model_name": "DescriptionStyleModel",
          "model_module_version": "1.5.0",
          "state": {
            "_model_module": "@jupyter-widgets/controls",
            "_model_module_version": "1.5.0",
            "_model_name": "DescriptionStyleModel",
            "_view_count": null,
            "_view_module": "@jupyter-widgets/base",
            "_view_module_version": "1.2.0",
            "_view_name": "StyleView",
            "description_width": ""
          }
        },
        "670f8ac630db42f5aa3c9555071db5e7": {
          "model_module": "@jupyter-widgets/controls",
          "model_name": "VBoxModel",
          "model_module_version": "1.5.0",
          "state": {
            "_dom_classes": [],
            "_model_module": "@jupyter-widgets/controls",
            "_model_module_version": "1.5.0",
            "_model_name": "VBoxModel",
            "_view_count": null,
            "_view_module": "@jupyter-widgets/controls",
            "_view_module_version": "1.5.0",
            "_view_name": "VBoxView",
            "box_style": "",
            "children": [],
            "layout": "IPY_MODEL_8df55e0bea4d4ed2b84f936655634957"
          }
        },
        "52c3926eef7543339c27a52069e61402": {
          "model_module": "@jupyter-widgets/controls",
          "model_name": "HTMLModel",
          "model_module_version": "1.5.0",
          "state": {
            "_dom_classes": [],
            "_model_module": "@jupyter-widgets/controls",
            "_model_module_version": "1.5.0",
            "_model_name": "HTMLModel",
            "_view_count": null,
            "_view_module": "@jupyter-widgets/controls",
            "_view_module_version": "1.5.0",
            "_view_name": "HTMLView",
            "description": "",
            "description_tooltip": null,
            "layout": "IPY_MODEL_1fbf2f66eacd4b059f089b27292b0152",
            "placeholder": "​",
            "style": "IPY_MODEL_849c8076e1d740ad9cd119052c150f4f",
            "value": "<center> <img\nsrc=https://huggingface.co/front/assets/huggingface_logo-noborder.svg\nalt='Hugging Face'> <br> Copy a token from <a\nhref=\"https://huggingface.co/settings/tokens\" target=\"_blank\">your Hugging Face\ntokens page</a> and paste it below. <br> Immediately click login after copying\nyour token or it might be stored in plain text in this notebook file. </center>"
          }
        },
        "454344128d18425296bb780e8fcc5ff3": {
          "model_module": "@jupyter-widgets/controls",
          "model_name": "PasswordModel",
          "model_module_version": "1.5.0",
          "state": {
            "_dom_classes": [],
            "_model_module": "@jupyter-widgets/controls",
            "_model_module_version": "1.5.0",
            "_model_name": "PasswordModel",
            "_view_count": null,
            "_view_module": "@jupyter-widgets/controls",
            "_view_module_version": "1.5.0",
            "_view_name": "PasswordView",
            "continuous_update": true,
            "description": "Token:",
            "description_tooltip": null,
            "disabled": false,
            "layout": "IPY_MODEL_493bb9f068b0473aa5e001fe035472af",
            "placeholder": "​",
            "style": "IPY_MODEL_9d8c8d8ff5644850b1235f72c557f9c9",
            "value": ""
          }
        },
        "b1e1bc9f504a4b1ab227b9e5ed8bfe39": {
          "model_module": "@jupyter-widgets/controls",
          "model_name": "CheckboxModel",
          "model_module_version": "1.5.0",
          "state": {
            "_dom_classes": [],
            "_model_module": "@jupyter-widgets/controls",
            "_model_module_version": "1.5.0",
            "_model_name": "CheckboxModel",
            "_view_count": null,
            "_view_module": "@jupyter-widgets/controls",
            "_view_module_version": "1.5.0",
            "_view_name": "CheckboxView",
            "description": "Add token as git credential?",
            "description_tooltip": null,
            "disabled": false,
            "indent": true,
            "layout": "IPY_MODEL_74e35fdc6c524d9f826ef24f7f11416f",
            "style": "IPY_MODEL_296e2db3b498452bb8658e2c9d0b68dd",
            "value": false
          }
        },
        "901e58eca5724d409ab383ea9c691807": {
          "model_module": "@jupyter-widgets/controls",
          "model_name": "ButtonModel",
          "model_module_version": "1.5.0",
          "state": {
            "_dom_classes": [],
            "_model_module": "@jupyter-widgets/controls",
            "_model_module_version": "1.5.0",
            "_model_name": "ButtonModel",
            "_view_count": null,
            "_view_module": "@jupyter-widgets/controls",
            "_view_module_version": "1.5.0",
            "_view_name": "ButtonView",
            "button_style": "",
            "description": "Login",
            "disabled": false,
            "icon": "",
            "layout": "IPY_MODEL_7b590e14c18d4ac692c5bd5f6d51a5f2",
            "style": "IPY_MODEL_28c56362152f454a8da120b1e64689f7",
            "tooltip": ""
          }
        },
        "9c7c7c19ebcc42119b6fc390b0375ecb": {
          "model_module": "@jupyter-widgets/controls",
          "model_name": "HTMLModel",
          "model_module_version": "1.5.0",
          "state": {
            "_dom_classes": [],
            "_model_module": "@jupyter-widgets/controls",
            "_model_module_version": "1.5.0",
            "_model_name": "HTMLModel",
            "_view_count": null,
            "_view_module": "@jupyter-widgets/controls",
            "_view_module_version": "1.5.0",
            "_view_name": "HTMLView",
            "description": "",
            "description_tooltip": null,
            "layout": "IPY_MODEL_3a323df34efe4ab6a0987ec73f738fd1",
            "placeholder": "​",
            "style": "IPY_MODEL_1cf94531892e40fea6fee97a9aafc6e6",
            "value": "\n<b>Pro Tip:</b> If you don't already have one, you can create a dedicated\n'notebooks' token with 'write' access, that you can then easily reuse for all\nnotebooks. </center>"
          }
        },
        "8df55e0bea4d4ed2b84f936655634957": {
          "model_module": "@jupyter-widgets/base",
          "model_name": "LayoutModel",
          "model_module_version": "1.2.0",
          "state": {
            "_model_module": "@jupyter-widgets/base",
            "_model_module_version": "1.2.0",
            "_model_name": "LayoutModel",
            "_view_count": null,
            "_view_module": "@jupyter-widgets/base",
            "_view_module_version": "1.2.0",
            "_view_name": "LayoutView",
            "align_content": null,
            "align_items": "center",
            "align_self": null,
            "border": null,
            "bottom": null,
            "display": "flex",
            "flex": null,
            "flex_flow": "column",
            "grid_area": null,
            "grid_auto_columns": null,
            "grid_auto_flow": null,
            "grid_auto_rows": null,
            "grid_column": null,
            "grid_gap": null,
            "grid_row": null,
            "grid_template_areas": null,
            "grid_template_columns": null,
            "grid_template_rows": null,
            "height": null,
            "justify_content": null,
            "justify_items": null,
            "left": null,
            "margin": null,
            "max_height": null,
            "max_width": null,
            "min_height": null,
            "min_width": null,
            "object_fit": null,
            "object_position": null,
            "order": null,
            "overflow": null,
            "overflow_x": null,
            "overflow_y": null,
            "padding": null,
            "right": null,
            "top": null,
            "visibility": null,
            "width": "50%"
          }
        },
        "1fbf2f66eacd4b059f089b27292b0152": {
          "model_module": "@jupyter-widgets/base",
          "model_name": "LayoutModel",
          "model_module_version": "1.2.0",
          "state": {
            "_model_module": "@jupyter-widgets/base",
            "_model_module_version": "1.2.0",
            "_model_name": "LayoutModel",
            "_view_count": null,
            "_view_module": "@jupyter-widgets/base",
            "_view_module_version": "1.2.0",
            "_view_name": "LayoutView",
            "align_content": null,
            "align_items": null,
            "align_self": null,
            "border": null,
            "bottom": null,
            "display": null,
            "flex": null,
            "flex_flow": null,
            "grid_area": null,
            "grid_auto_columns": null,
            "grid_auto_flow": null,
            "grid_auto_rows": null,
            "grid_column": null,
            "grid_gap": null,
            "grid_row": null,
            "grid_template_areas": null,
            "grid_template_columns": null,
            "grid_template_rows": null,
            "height": null,
            "justify_content": null,
            "justify_items": null,
            "left": null,
            "margin": null,
            "max_height": null,
            "max_width": null,
            "min_height": null,
            "min_width": null,
            "object_fit": null,
            "object_position": null,
            "order": null,
            "overflow": null,
            "overflow_x": null,
            "overflow_y": null,
            "padding": null,
            "right": null,
            "top": null,
            "visibility": null,
            "width": null
          }
        },
        "849c8076e1d740ad9cd119052c150f4f": {
          "model_module": "@jupyter-widgets/controls",
          "model_name": "DescriptionStyleModel",
          "model_module_version": "1.5.0",
          "state": {
            "_model_module": "@jupyter-widgets/controls",
            "_model_module_version": "1.5.0",
            "_model_name": "DescriptionStyleModel",
            "_view_count": null,
            "_view_module": "@jupyter-widgets/base",
            "_view_module_version": "1.2.0",
            "_view_name": "StyleView",
            "description_width": ""
          }
        },
        "493bb9f068b0473aa5e001fe035472af": {
          "model_module": "@jupyter-widgets/base",
          "model_name": "LayoutModel",
          "model_module_version": "1.2.0",
          "state": {
            "_model_module": "@jupyter-widgets/base",
            "_model_module_version": "1.2.0",
            "_model_name": "LayoutModel",
            "_view_count": null,
            "_view_module": "@jupyter-widgets/base",
            "_view_module_version": "1.2.0",
            "_view_name": "LayoutView",
            "align_content": null,
            "align_items": null,
            "align_self": null,
            "border": null,
            "bottom": null,
            "display": null,
            "flex": null,
            "flex_flow": null,
            "grid_area": null,
            "grid_auto_columns": null,
            "grid_auto_flow": null,
            "grid_auto_rows": null,
            "grid_column": null,
            "grid_gap": null,
            "grid_row": null,
            "grid_template_areas": null,
            "grid_template_columns": null,
            "grid_template_rows": null,
            "height": null,
            "justify_content": null,
            "justify_items": null,
            "left": null,
            "margin": null,
            "max_height": null,
            "max_width": null,
            "min_height": null,
            "min_width": null,
            "object_fit": null,
            "object_position": null,
            "order": null,
            "overflow": null,
            "overflow_x": null,
            "overflow_y": null,
            "padding": null,
            "right": null,
            "top": null,
            "visibility": null,
            "width": null
          }
        },
        "9d8c8d8ff5644850b1235f72c557f9c9": {
          "model_module": "@jupyter-widgets/controls",
          "model_name": "DescriptionStyleModel",
          "model_module_version": "1.5.0",
          "state": {
            "_model_module": "@jupyter-widgets/controls",
            "_model_module_version": "1.5.0",
            "_model_name": "DescriptionStyleModel",
            "_view_count": null,
            "_view_module": "@jupyter-widgets/base",
            "_view_module_version": "1.2.0",
            "_view_name": "StyleView",
            "description_width": ""
          }
        },
        "74e35fdc6c524d9f826ef24f7f11416f": {
          "model_module": "@jupyter-widgets/base",
          "model_name": "LayoutModel",
          "model_module_version": "1.2.0",
          "state": {
            "_model_module": "@jupyter-widgets/base",
            "_model_module_version": "1.2.0",
            "_model_name": "LayoutModel",
            "_view_count": null,
            "_view_module": "@jupyter-widgets/base",
            "_view_module_version": "1.2.0",
            "_view_name": "LayoutView",
            "align_content": null,
            "align_items": null,
            "align_self": null,
            "border": null,
            "bottom": null,
            "display": null,
            "flex": null,
            "flex_flow": null,
            "grid_area": null,
            "grid_auto_columns": null,
            "grid_auto_flow": null,
            "grid_auto_rows": null,
            "grid_column": null,
            "grid_gap": null,
            "grid_row": null,
            "grid_template_areas": null,
            "grid_template_columns": null,
            "grid_template_rows": null,
            "height": null,
            "justify_content": null,
            "justify_items": null,
            "left": null,
            "margin": null,
            "max_height": null,
            "max_width": null,
            "min_height": null,
            "min_width": null,
            "object_fit": null,
            "object_position": null,
            "order": null,
            "overflow": null,
            "overflow_x": null,
            "overflow_y": null,
            "padding": null,
            "right": null,
            "top": null,
            "visibility": null,
            "width": null
          }
        },
        "296e2db3b498452bb8658e2c9d0b68dd": {
          "model_module": "@jupyter-widgets/controls",
          "model_name": "DescriptionStyleModel",
          "model_module_version": "1.5.0",
          "state": {
            "_model_module": "@jupyter-widgets/controls",
            "_model_module_version": "1.5.0",
            "_model_name": "DescriptionStyleModel",
            "_view_count": null,
            "_view_module": "@jupyter-widgets/base",
            "_view_module_version": "1.2.0",
            "_view_name": "StyleView",
            "description_width": ""
          }
        },
        "7b590e14c18d4ac692c5bd5f6d51a5f2": {
          "model_module": "@jupyter-widgets/base",
          "model_name": "LayoutModel",
          "model_module_version": "1.2.0",
          "state": {
            "_model_module": "@jupyter-widgets/base",
            "_model_module_version": "1.2.0",
            "_model_name": "LayoutModel",
            "_view_count": null,
            "_view_module": "@jupyter-widgets/base",
            "_view_module_version": "1.2.0",
            "_view_name": "LayoutView",
            "align_content": null,
            "align_items": null,
            "align_self": null,
            "border": null,
            "bottom": null,
            "display": null,
            "flex": null,
            "flex_flow": null,
            "grid_area": null,
            "grid_auto_columns": null,
            "grid_auto_flow": null,
            "grid_auto_rows": null,
            "grid_column": null,
            "grid_gap": null,
            "grid_row": null,
            "grid_template_areas": null,
            "grid_template_columns": null,
            "grid_template_rows": null,
            "height": null,
            "justify_content": null,
            "justify_items": null,
            "left": null,
            "margin": null,
            "max_height": null,
            "max_width": null,
            "min_height": null,
            "min_width": null,
            "object_fit": null,
            "object_position": null,
            "order": null,
            "overflow": null,
            "overflow_x": null,
            "overflow_y": null,
            "padding": null,
            "right": null,
            "top": null,
            "visibility": null,
            "width": null
          }
        },
        "28c56362152f454a8da120b1e64689f7": {
          "model_module": "@jupyter-widgets/controls",
          "model_name": "ButtonStyleModel",
          "model_module_version": "1.5.0",
          "state": {
            "_model_module": "@jupyter-widgets/controls",
            "_model_module_version": "1.5.0",
            "_model_name": "ButtonStyleModel",
            "_view_count": null,
            "_view_module": "@jupyter-widgets/base",
            "_view_module_version": "1.2.0",
            "_view_name": "StyleView",
            "button_color": null,
            "font_weight": ""
          }
        },
        "3a323df34efe4ab6a0987ec73f738fd1": {
          "model_module": "@jupyter-widgets/base",
          "model_name": "LayoutModel",
          "model_module_version": "1.2.0",
          "state": {
            "_model_module": "@jupyter-widgets/base",
            "_model_module_version": "1.2.0",
            "_model_name": "LayoutModel",
            "_view_count": null,
            "_view_module": "@jupyter-widgets/base",
            "_view_module_version": "1.2.0",
            "_view_name": "LayoutView",
            "align_content": null,
            "align_items": null,
            "align_self": null,
            "border": null,
            "bottom": null,
            "display": null,
            "flex": null,
            "flex_flow": null,
            "grid_area": null,
            "grid_auto_columns": null,
            "grid_auto_flow": null,
            "grid_auto_rows": null,
            "grid_column": null,
            "grid_gap": null,
            "grid_row": null,
            "grid_template_areas": null,
            "grid_template_columns": null,
            "grid_template_rows": null,
            "height": null,
            "justify_content": null,
            "justify_items": null,
            "left": null,
            "margin": null,
            "max_height": null,
            "max_width": null,
            "min_height": null,
            "min_width": null,
            "object_fit": null,
            "object_position": null,
            "order": null,
            "overflow": null,
            "overflow_x": null,
            "overflow_y": null,
            "padding": null,
            "right": null,
            "top": null,
            "visibility": null,
            "width": null
          }
        },
        "1cf94531892e40fea6fee97a9aafc6e6": {
          "model_module": "@jupyter-widgets/controls",
          "model_name": "DescriptionStyleModel",
          "model_module_version": "1.5.0",
          "state": {
            "_model_module": "@jupyter-widgets/controls",
            "_model_module_version": "1.5.0",
            "_model_name": "DescriptionStyleModel",
            "_view_count": null,
            "_view_module": "@jupyter-widgets/base",
            "_view_module_version": "1.2.0",
            "_view_name": "StyleView",
            "description_width": ""
          }
        },
        "7cda52a011ca47c39b334a9f5ada8980": {
          "model_module": "@jupyter-widgets/controls",
          "model_name": "LabelModel",
          "model_module_version": "1.5.0",
          "state": {
            "_dom_classes": [],
            "_model_module": "@jupyter-widgets/controls",
            "_model_module_version": "1.5.0",
            "_model_name": "LabelModel",
            "_view_count": null,
            "_view_module": "@jupyter-widgets/controls",
            "_view_module_version": "1.5.0",
            "_view_name": "LabelView",
            "description": "",
            "description_tooltip": null,
            "layout": "IPY_MODEL_f2c3394a50224599b1dcf9f52a6f0444",
            "placeholder": "​",
            "style": "IPY_MODEL_3ab90a9f134142b9ad1f45d6f453916e",
            "value": "Connecting..."
          }
        },
        "f2c3394a50224599b1dcf9f52a6f0444": {
          "model_module": "@jupyter-widgets/base",
          "model_name": "LayoutModel",
          "model_module_version": "1.2.0",
          "state": {
            "_model_module": "@jupyter-widgets/base",
            "_model_module_version": "1.2.0",
            "_model_name": "LayoutModel",
            "_view_count": null,
            "_view_module": "@jupyter-widgets/base",
            "_view_module_version": "1.2.0",
            "_view_name": "LayoutView",
            "align_content": null,
            "align_items": null,
            "align_self": null,
            "border": null,
            "bottom": null,
            "display": null,
            "flex": null,
            "flex_flow": null,
            "grid_area": null,
            "grid_auto_columns": null,
            "grid_auto_flow": null,
            "grid_auto_rows": null,
            "grid_column": null,
            "grid_gap": null,
            "grid_row": null,
            "grid_template_areas": null,
            "grid_template_columns": null,
            "grid_template_rows": null,
            "height": null,
            "justify_content": null,
            "justify_items": null,
            "left": null,
            "margin": null,
            "max_height": null,
            "max_width": null,
            "min_height": null,
            "min_width": null,
            "object_fit": null,
            "object_position": null,
            "order": null,
            "overflow": null,
            "overflow_x": null,
            "overflow_y": null,
            "padding": null,
            "right": null,
            "top": null,
            "visibility": null,
            "width": null
          }
        },
        "3ab90a9f134142b9ad1f45d6f453916e": {
          "model_module": "@jupyter-widgets/controls",
          "model_name": "DescriptionStyleModel",
          "model_module_version": "1.5.0",
          "state": {
            "_model_module": "@jupyter-widgets/controls",
            "_model_module_version": "1.5.0",
            "_model_name": "DescriptionStyleModel",
            "_view_count": null,
            "_view_module": "@jupyter-widgets/base",
            "_view_module_version": "1.2.0",
            "_view_name": "StyleView",
            "description_width": ""
          }
        },
        "00eac1395d6e4a35b29fc054eb1a6574": {
          "model_module": "@jupyter-widgets/controls",
          "model_name": "HBoxModel",
          "model_module_version": "1.5.0",
          "state": {
            "_dom_classes": [],
            "_model_module": "@jupyter-widgets/controls",
            "_model_module_version": "1.5.0",
            "_model_name": "HBoxModel",
            "_view_count": null,
            "_view_module": "@jupyter-widgets/controls",
            "_view_module_version": "1.5.0",
            "_view_name": "HBoxView",
            "box_style": "",
            "children": [
              "IPY_MODEL_ba92f1a347314e0db0c86d102d941540",
              "IPY_MODEL_04620e2398b54787aa2dd1ac51d8f95a",
              "IPY_MODEL_7ab69c9583ad4dc28849a4d28010fb9e"
            ],
            "layout": "IPY_MODEL_65940224cbd145bdb03922b4b92d3509"
          }
        },
        "ba92f1a347314e0db0c86d102d941540": {
          "model_module": "@jupyter-widgets/controls",
          "model_name": "HTMLModel",
          "model_module_version": "1.5.0",
          "state": {
            "_dom_classes": [],
            "_model_module": "@jupyter-widgets/controls",
            "_model_module_version": "1.5.0",
            "_model_name": "HTMLModel",
            "_view_count": null,
            "_view_module": "@jupyter-widgets/controls",
            "_view_module_version": "1.5.0",
            "_view_name": "HTMLView",
            "description": "",
            "description_tooltip": null,
            "layout": "IPY_MODEL_40d4d2f4b76240a787dd88ee503aa092",
            "placeholder": "​",
            "style": "IPY_MODEL_4d15d6308a9e4c519b5452f912cc97e2",
            "value": "README.md: "
          }
        },
        "04620e2398b54787aa2dd1ac51d8f95a": {
          "model_module": "@jupyter-widgets/controls",
          "model_name": "FloatProgressModel",
          "model_module_version": "1.5.0",
          "state": {
            "_dom_classes": [],
            "_model_module": "@jupyter-widgets/controls",
            "_model_module_version": "1.5.0",
            "_model_name": "FloatProgressModel",
            "_view_count": null,
            "_view_module": "@jupyter-widgets/controls",
            "_view_module_version": "1.5.0",
            "_view_name": "ProgressView",
            "bar_style": "success",
            "description": "",
            "description_tooltip": null,
            "layout": "IPY_MODEL_38ae38c432784cc7875c46748654337a",
            "max": 1,
            "min": 0,
            "orientation": "horizontal",
            "style": "IPY_MODEL_f6bbd8e1115b495cb6fb05869053fd16",
            "value": 1
          }
        },
        "7ab69c9583ad4dc28849a4d28010fb9e": {
          "model_module": "@jupyter-widgets/controls",
          "model_name": "HTMLModel",
          "model_module_version": "1.5.0",
          "state": {
            "_dom_classes": [],
            "_model_module": "@jupyter-widgets/controls",
            "_model_module_version": "1.5.0",
            "_model_name": "HTMLModel",
            "_view_count": null,
            "_view_module": "@jupyter-widgets/controls",
            "_view_module_version": "1.5.0",
            "_view_name": "HTMLView",
            "description": "",
            "description_tooltip": null,
            "layout": "IPY_MODEL_708a57a257b548ee9fc8e3da0be1b0ed",
            "placeholder": "​",
            "style": "IPY_MODEL_88754d2f51d540898b94bba68cf05ac8",
            "value": " 2.94k/? [00:00&lt;00:00, 311kB/s]"
          }
        },
        "65940224cbd145bdb03922b4b92d3509": {
          "model_module": "@jupyter-widgets/base",
          "model_name": "LayoutModel",
          "model_module_version": "1.2.0",
          "state": {
            "_model_module": "@jupyter-widgets/base",
            "_model_module_version": "1.2.0",
            "_model_name": "LayoutModel",
            "_view_count": null,
            "_view_module": "@jupyter-widgets/base",
            "_view_module_version": "1.2.0",
            "_view_name": "LayoutView",
            "align_content": null,
            "align_items": null,
            "align_self": null,
            "border": null,
            "bottom": null,
            "display": null,
            "flex": null,
            "flex_flow": null,
            "grid_area": null,
            "grid_auto_columns": null,
            "grid_auto_flow": null,
            "grid_auto_rows": null,
            "grid_column": null,
            "grid_gap": null,
            "grid_row": null,
            "grid_template_areas": null,
            "grid_template_columns": null,
            "grid_template_rows": null,
            "height": null,
            "justify_content": null,
            "justify_items": null,
            "left": null,
            "margin": null,
            "max_height": null,
            "max_width": null,
            "min_height": null,
            "min_width": null,
            "object_fit": null,
            "object_position": null,
            "order": null,
            "overflow": null,
            "overflow_x": null,
            "overflow_y": null,
            "padding": null,
            "right": null,
            "top": null,
            "visibility": null,
            "width": null
          }
        },
        "40d4d2f4b76240a787dd88ee503aa092": {
          "model_module": "@jupyter-widgets/base",
          "model_name": "LayoutModel",
          "model_module_version": "1.2.0",
          "state": {
            "_model_module": "@jupyter-widgets/base",
            "_model_module_version": "1.2.0",
            "_model_name": "LayoutModel",
            "_view_count": null,
            "_view_module": "@jupyter-widgets/base",
            "_view_module_version": "1.2.0",
            "_view_name": "LayoutView",
            "align_content": null,
            "align_items": null,
            "align_self": null,
            "border": null,
            "bottom": null,
            "display": null,
            "flex": null,
            "flex_flow": null,
            "grid_area": null,
            "grid_auto_columns": null,
            "grid_auto_flow": null,
            "grid_auto_rows": null,
            "grid_column": null,
            "grid_gap": null,
            "grid_row": null,
            "grid_template_areas": null,
            "grid_template_columns": null,
            "grid_template_rows": null,
            "height": null,
            "justify_content": null,
            "justify_items": null,
            "left": null,
            "margin": null,
            "max_height": null,
            "max_width": null,
            "min_height": null,
            "min_width": null,
            "object_fit": null,
            "object_position": null,
            "order": null,
            "overflow": null,
            "overflow_x": null,
            "overflow_y": null,
            "padding": null,
            "right": null,
            "top": null,
            "visibility": null,
            "width": null
          }
        },
        "4d15d6308a9e4c519b5452f912cc97e2": {
          "model_module": "@jupyter-widgets/controls",
          "model_name": "DescriptionStyleModel",
          "model_module_version": "1.5.0",
          "state": {
            "_model_module": "@jupyter-widgets/controls",
            "_model_module_version": "1.5.0",
            "_model_name": "DescriptionStyleModel",
            "_view_count": null,
            "_view_module": "@jupyter-widgets/base",
            "_view_module_version": "1.2.0",
            "_view_name": "StyleView",
            "description_width": ""
          }
        },
        "38ae38c432784cc7875c46748654337a": {
          "model_module": "@jupyter-widgets/base",
          "model_name": "LayoutModel",
          "model_module_version": "1.2.0",
          "state": {
            "_model_module": "@jupyter-widgets/base",
            "_model_module_version": "1.2.0",
            "_model_name": "LayoutModel",
            "_view_count": null,
            "_view_module": "@jupyter-widgets/base",
            "_view_module_version": "1.2.0",
            "_view_name": "LayoutView",
            "align_content": null,
            "align_items": null,
            "align_self": null,
            "border": null,
            "bottom": null,
            "display": null,
            "flex": null,
            "flex_flow": null,
            "grid_area": null,
            "grid_auto_columns": null,
            "grid_auto_flow": null,
            "grid_auto_rows": null,
            "grid_column": null,
            "grid_gap": null,
            "grid_row": null,
            "grid_template_areas": null,
            "grid_template_columns": null,
            "grid_template_rows": null,
            "height": null,
            "justify_content": null,
            "justify_items": null,
            "left": null,
            "margin": null,
            "max_height": null,
            "max_width": null,
            "min_height": null,
            "min_width": null,
            "object_fit": null,
            "object_position": null,
            "order": null,
            "overflow": null,
            "overflow_x": null,
            "overflow_y": null,
            "padding": null,
            "right": null,
            "top": null,
            "visibility": null,
            "width": "20px"
          }
        },
        "f6bbd8e1115b495cb6fb05869053fd16": {
          "model_module": "@jupyter-widgets/controls",
          "model_name": "ProgressStyleModel",
          "model_module_version": "1.5.0",
          "state": {
            "_model_module": "@jupyter-widgets/controls",
            "_model_module_version": "1.5.0",
            "_model_name": "ProgressStyleModel",
            "_view_count": null,
            "_view_module": "@jupyter-widgets/base",
            "_view_module_version": "1.2.0",
            "_view_name": "StyleView",
            "bar_color": null,
            "description_width": ""
          }
        },
        "708a57a257b548ee9fc8e3da0be1b0ed": {
          "model_module": "@jupyter-widgets/base",
          "model_name": "LayoutModel",
          "model_module_version": "1.2.0",
          "state": {
            "_model_module": "@jupyter-widgets/base",
            "_model_module_version": "1.2.0",
            "_model_name": "LayoutModel",
            "_view_count": null,
            "_view_module": "@jupyter-widgets/base",
            "_view_module_version": "1.2.0",
            "_view_name": "LayoutView",
            "align_content": null,
            "align_items": null,
            "align_self": null,
            "border": null,
            "bottom": null,
            "display": null,
            "flex": null,
            "flex_flow": null,
            "grid_area": null,
            "grid_auto_columns": null,
            "grid_auto_flow": null,
            "grid_auto_rows": null,
            "grid_column": null,
            "grid_gap": null,
            "grid_row": null,
            "grid_template_areas": null,
            "grid_template_columns": null,
            "grid_template_rows": null,
            "height": null,
            "justify_content": null,
            "justify_items": null,
            "left": null,
            "margin": null,
            "max_height": null,
            "max_width": null,
            "min_height": null,
            "min_width": null,
            "object_fit": null,
            "object_position": null,
            "order": null,
            "overflow": null,
            "overflow_x": null,
            "overflow_y": null,
            "padding": null,
            "right": null,
            "top": null,
            "visibility": null,
            "width": null
          }
        },
        "88754d2f51d540898b94bba68cf05ac8": {
          "model_module": "@jupyter-widgets/controls",
          "model_name": "DescriptionStyleModel",
          "model_module_version": "1.5.0",
          "state": {
            "_model_module": "@jupyter-widgets/controls",
            "_model_module_version": "1.5.0",
            "_model_name": "DescriptionStyleModel",
            "_view_count": null,
            "_view_module": "@jupyter-widgets/base",
            "_view_module_version": "1.2.0",
            "_view_name": "StyleView",
            "description_width": ""
          }
        },
        "3f67a1cd48b94cfc8dcd25238aaa8061": {
          "model_module": "@jupyter-widgets/controls",
          "model_name": "HBoxModel",
          "model_module_version": "1.5.0",
          "state": {
            "_dom_classes": [],
            "_model_module": "@jupyter-widgets/controls",
            "_model_module_version": "1.5.0",
            "_model_name": "HBoxModel",
            "_view_count": null,
            "_view_module": "@jupyter-widgets/controls",
            "_view_module_version": "1.5.0",
            "_view_name": "HBoxView",
            "box_style": "",
            "children": [
              "IPY_MODEL_845611bf73d14c60b474310d5fca8b86",
              "IPY_MODEL_8443cdae507745fe9287ed1ed729d945",
              "IPY_MODEL_22527cbedb1e4eada0cbd59310a2c66a"
            ],
            "layout": "IPY_MODEL_cc1380734c3a47a0890f5034937f7feb"
          }
        },
        "845611bf73d14c60b474310d5fca8b86": {
          "model_module": "@jupyter-widgets/controls",
          "model_name": "HTMLModel",
          "model_module_version": "1.5.0",
          "state": {
            "_dom_classes": [],
            "_model_module": "@jupyter-widgets/controls",
            "_model_module_version": "1.5.0",
            "_model_name": "HTMLModel",
            "_view_count": null,
            "_view_module": "@jupyter-widgets/controls",
            "_view_module_version": "1.5.0",
            "_view_name": "HTMLView",
            "description": "",
            "description_tooltip": null,
            "layout": "IPY_MODEL_444823dffd9f429081924240f3d27548",
            "placeholder": "​",
            "style": "IPY_MODEL_58d4091685f24d028a853407e214f259",
            "value": "Resolving data files: 100%"
          }
        },
        "8443cdae507745fe9287ed1ed729d945": {
          "model_module": "@jupyter-widgets/controls",
          "model_name": "FloatProgressModel",
          "model_module_version": "1.5.0",
          "state": {
            "_dom_classes": [],
            "_model_module": "@jupyter-widgets/controls",
            "_model_module_version": "1.5.0",
            "_model_name": "FloatProgressModel",
            "_view_count": null,
            "_view_module": "@jupyter-widgets/controls",
            "_view_module_version": "1.5.0",
            "_view_name": "ProgressView",
            "bar_style": "success",
            "description": "",
            "description_tooltip": null,
            "layout": "IPY_MODEL_521595c589cc4fdb944264aa9d2b22e5",
            "max": 52,
            "min": 0,
            "orientation": "horizontal",
            "style": "IPY_MODEL_811217d86dc448ccbaf0c958483a5c9c",
            "value": 52
          }
        },
        "22527cbedb1e4eada0cbd59310a2c66a": {
          "model_module": "@jupyter-widgets/controls",
          "model_name": "HTMLModel",
          "model_module_version": "1.5.0",
          "state": {
            "_dom_classes": [],
            "_model_module": "@jupyter-widgets/controls",
            "_model_module_version": "1.5.0",
            "_model_name": "HTMLModel",
            "_view_count": null,
            "_view_module": "@jupyter-widgets/controls",
            "_view_module_version": "1.5.0",
            "_view_name": "HTMLView",
            "description": "",
            "description_tooltip": null,
            "layout": "IPY_MODEL_a9efe78755f14291957210d3d49e3609",
            "placeholder": "​",
            "style": "IPY_MODEL_dc839c6f4f1a43818fc596a0dee3272c",
            "value": " 52/52 [00:00&lt;00:00, 350.52it/s]"
          }
        },
        "cc1380734c3a47a0890f5034937f7feb": {
          "model_module": "@jupyter-widgets/base",
          "model_name": "LayoutModel",
          "model_module_version": "1.2.0",
          "state": {
            "_model_module": "@jupyter-widgets/base",
            "_model_module_version": "1.2.0",
            "_model_name": "LayoutModel",
            "_view_count": null,
            "_view_module": "@jupyter-widgets/base",
            "_view_module_version": "1.2.0",
            "_view_name": "LayoutView",
            "align_content": null,
            "align_items": null,
            "align_self": null,
            "border": null,
            "bottom": null,
            "display": null,
            "flex": null,
            "flex_flow": null,
            "grid_area": null,
            "grid_auto_columns": null,
            "grid_auto_flow": null,
            "grid_auto_rows": null,
            "grid_column": null,
            "grid_gap": null,
            "grid_row": null,
            "grid_template_areas": null,
            "grid_template_columns": null,
            "grid_template_rows": null,
            "height": null,
            "justify_content": null,
            "justify_items": null,
            "left": null,
            "margin": null,
            "max_height": null,
            "max_width": null,
            "min_height": null,
            "min_width": null,
            "object_fit": null,
            "object_position": null,
            "order": null,
            "overflow": null,
            "overflow_x": null,
            "overflow_y": null,
            "padding": null,
            "right": null,
            "top": null,
            "visibility": null,
            "width": null
          }
        },
        "444823dffd9f429081924240f3d27548": {
          "model_module": "@jupyter-widgets/base",
          "model_name": "LayoutModel",
          "model_module_version": "1.2.0",
          "state": {
            "_model_module": "@jupyter-widgets/base",
            "_model_module_version": "1.2.0",
            "_model_name": "LayoutModel",
            "_view_count": null,
            "_view_module": "@jupyter-widgets/base",
            "_view_module_version": "1.2.0",
            "_view_name": "LayoutView",
            "align_content": null,
            "align_items": null,
            "align_self": null,
            "border": null,
            "bottom": null,
            "display": null,
            "flex": null,
            "flex_flow": null,
            "grid_area": null,
            "grid_auto_columns": null,
            "grid_auto_flow": null,
            "grid_auto_rows": null,
            "grid_column": null,
            "grid_gap": null,
            "grid_row": null,
            "grid_template_areas": null,
            "grid_template_columns": null,
            "grid_template_rows": null,
            "height": null,
            "justify_content": null,
            "justify_items": null,
            "left": null,
            "margin": null,
            "max_height": null,
            "max_width": null,
            "min_height": null,
            "min_width": null,
            "object_fit": null,
            "object_position": null,
            "order": null,
            "overflow": null,
            "overflow_x": null,
            "overflow_y": null,
            "padding": null,
            "right": null,
            "top": null,
            "visibility": null,
            "width": null
          }
        },
        "58d4091685f24d028a853407e214f259": {
          "model_module": "@jupyter-widgets/controls",
          "model_name": "DescriptionStyleModel",
          "model_module_version": "1.5.0",
          "state": {
            "_model_module": "@jupyter-widgets/controls",
            "_model_module_version": "1.5.0",
            "_model_name": "DescriptionStyleModel",
            "_view_count": null,
            "_view_module": "@jupyter-widgets/base",
            "_view_module_version": "1.2.0",
            "_view_name": "StyleView",
            "description_width": ""
          }
        },
        "521595c589cc4fdb944264aa9d2b22e5": {
          "model_module": "@jupyter-widgets/base",
          "model_name": "LayoutModel",
          "model_module_version": "1.2.0",
          "state": {
            "_model_module": "@jupyter-widgets/base",
            "_model_module_version": "1.2.0",
            "_model_name": "LayoutModel",
            "_view_count": null,
            "_view_module": "@jupyter-widgets/base",
            "_view_module_version": "1.2.0",
            "_view_name": "LayoutView",
            "align_content": null,
            "align_items": null,
            "align_self": null,
            "border": null,
            "bottom": null,
            "display": null,
            "flex": null,
            "flex_flow": null,
            "grid_area": null,
            "grid_auto_columns": null,
            "grid_auto_flow": null,
            "grid_auto_rows": null,
            "grid_column": null,
            "grid_gap": null,
            "grid_row": null,
            "grid_template_areas": null,
            "grid_template_columns": null,
            "grid_template_rows": null,
            "height": null,
            "justify_content": null,
            "justify_items": null,
            "left": null,
            "margin": null,
            "max_height": null,
            "max_width": null,
            "min_height": null,
            "min_width": null,
            "object_fit": null,
            "object_position": null,
            "order": null,
            "overflow": null,
            "overflow_x": null,
            "overflow_y": null,
            "padding": null,
            "right": null,
            "top": null,
            "visibility": null,
            "width": null
          }
        },
        "811217d86dc448ccbaf0c958483a5c9c": {
          "model_module": "@jupyter-widgets/controls",
          "model_name": "ProgressStyleModel",
          "model_module_version": "1.5.0",
          "state": {
            "_model_module": "@jupyter-widgets/controls",
            "_model_module_version": "1.5.0",
            "_model_name": "ProgressStyleModel",
            "_view_count": null,
            "_view_module": "@jupyter-widgets/base",
            "_view_module_version": "1.2.0",
            "_view_name": "StyleView",
            "bar_color": null,
            "description_width": ""
          }
        },
        "a9efe78755f14291957210d3d49e3609": {
          "model_module": "@jupyter-widgets/base",
          "model_name": "LayoutModel",
          "model_module_version": "1.2.0",
          "state": {
            "_model_module": "@jupyter-widgets/base",
            "_model_module_version": "1.2.0",
            "_model_name": "LayoutModel",
            "_view_count": null,
            "_view_module": "@jupyter-widgets/base",
            "_view_module_version": "1.2.0",
            "_view_name": "LayoutView",
            "align_content": null,
            "align_items": null,
            "align_self": null,
            "border": null,
            "bottom": null,
            "display": null,
            "flex": null,
            "flex_flow": null,
            "grid_area": null,
            "grid_auto_columns": null,
            "grid_auto_flow": null,
            "grid_auto_rows": null,
            "grid_column": null,
            "grid_gap": null,
            "grid_row": null,
            "grid_template_areas": null,
            "grid_template_columns": null,
            "grid_template_rows": null,
            "height": null,
            "justify_content": null,
            "justify_items": null,
            "left": null,
            "margin": null,
            "max_height": null,
            "max_width": null,
            "min_height": null,
            "min_width": null,
            "object_fit": null,
            "object_position": null,
            "order": null,
            "overflow": null,
            "overflow_x": null,
            "overflow_y": null,
            "padding": null,
            "right": null,
            "top": null,
            "visibility": null,
            "width": null
          }
        },
        "dc839c6f4f1a43818fc596a0dee3272c": {
          "model_module": "@jupyter-widgets/controls",
          "model_name": "DescriptionStyleModel",
          "model_module_version": "1.5.0",
          "state": {
            "_model_module": "@jupyter-widgets/controls",
            "_model_module_version": "1.5.0",
            "_model_name": "DescriptionStyleModel",
            "_view_count": null,
            "_view_module": "@jupyter-widgets/base",
            "_view_module_version": "1.2.0",
            "_view_name": "StyleView",
            "description_width": ""
          }
        },
        "5fd4317a0f6d4dce8b340ae36fa7106d": {
          "model_module": "@jupyter-widgets/controls",
          "model_name": "HBoxModel",
          "model_module_version": "1.5.0",
          "state": {
            "_dom_classes": [],
            "_model_module": "@jupyter-widgets/controls",
            "_model_module_version": "1.5.0",
            "_model_name": "HBoxModel",
            "_view_count": null,
            "_view_module": "@jupyter-widgets/controls",
            "_view_module_version": "1.5.0",
            "_view_name": "HBoxView",
            "box_style": "",
            "children": [
              "IPY_MODEL_2295ab2a2a5145a181d63112d11c1733",
              "IPY_MODEL_1e64c48b1d984292ab1b343fc7121747",
              "IPY_MODEL_ed0ac5c656834b188142f8edf6aeecce"
            ],
            "layout": "IPY_MODEL_3b3acc87a3d143c0926898a87bba497e"
          }
        },
        "2295ab2a2a5145a181d63112d11c1733": {
          "model_module": "@jupyter-widgets/controls",
          "model_name": "HTMLModel",
          "model_module_version": "1.5.0",
          "state": {
            "_dom_classes": [],
            "_model_module": "@jupyter-widgets/controls",
            "_model_module_version": "1.5.0",
            "_model_name": "HTMLModel",
            "_view_count": null,
            "_view_module": "@jupyter-widgets/controls",
            "_view_module_version": "1.5.0",
            "_view_name": "HTMLView",
            "description": "",
            "description_tooltip": null,
            "layout": "IPY_MODEL_116303c9f8f74bfdb74216349d1691e1",
            "placeholder": "​",
            "style": "IPY_MODEL_c39efed4b8ee41f7afd7cf50a6f6b6b0",
            "value": "Generating train split: "
          }
        },
        "1e64c48b1d984292ab1b343fc7121747": {
          "model_module": "@jupyter-widgets/controls",
          "model_name": "FloatProgressModel",
          "model_module_version": "1.5.0",
          "state": {
            "_dom_classes": [],
            "_model_module": "@jupyter-widgets/controls",
            "_model_module_version": "1.5.0",
            "_model_name": "FloatProgressModel",
            "_view_count": null,
            "_view_module": "@jupyter-widgets/controls",
            "_view_module_version": "1.5.0",
            "_view_name": "ProgressView",
            "bar_style": "success",
            "description": "",
            "description_tooltip": null,
            "layout": "IPY_MODEL_f7e7da7fe4044317a37a77e60ec4c3f4",
            "max": 1,
            "min": 0,
            "orientation": "horizontal",
            "style": "IPY_MODEL_80ec6870f41a4935b0888f08b90a7ac7",
            "value": 1
          }
        },
        "ed0ac5c656834b188142f8edf6aeecce": {
          "model_module": "@jupyter-widgets/controls",
          "model_name": "HTMLModel",
          "model_module_version": "1.5.0",
          "state": {
            "_dom_classes": [],
            "_model_module": "@jupyter-widgets/controls",
            "_model_module_version": "1.5.0",
            "_model_name": "HTMLModel",
            "_view_count": null,
            "_view_module": "@jupyter-widgets/controls",
            "_view_module_version": "1.5.0",
            "_view_name": "HTMLView",
            "description": "",
            "description_tooltip": null,
            "layout": "IPY_MODEL_f49254f2f6fd43a690693b22c5c6944b",
            "placeholder": "​",
            "style": "IPY_MODEL_1bfdbfd1864f40c0b7e2f7a7c700b3cc",
            "value": " 100/0 [00:00&lt;00:00, 3163.91 examples/s]"
          }
        },
        "3b3acc87a3d143c0926898a87bba497e": {
          "model_module": "@jupyter-widgets/base",
          "model_name": "LayoutModel",
          "model_module_version": "1.2.0",
          "state": {
            "_model_module": "@jupyter-widgets/base",
            "_model_module_version": "1.2.0",
            "_model_name": "LayoutModel",
            "_view_count": null,
            "_view_module": "@jupyter-widgets/base",
            "_view_module_version": "1.2.0",
            "_view_name": "LayoutView",
            "align_content": null,
            "align_items": null,
            "align_self": null,
            "border": null,
            "bottom": null,
            "display": null,
            "flex": null,
            "flex_flow": null,
            "grid_area": null,
            "grid_auto_columns": null,
            "grid_auto_flow": null,
            "grid_auto_rows": null,
            "grid_column": null,
            "grid_gap": null,
            "grid_row": null,
            "grid_template_areas": null,
            "grid_template_columns": null,
            "grid_template_rows": null,
            "height": null,
            "justify_content": null,
            "justify_items": null,
            "left": null,
            "margin": null,
            "max_height": null,
            "max_width": null,
            "min_height": null,
            "min_width": null,
            "object_fit": null,
            "object_position": null,
            "order": null,
            "overflow": null,
            "overflow_x": null,
            "overflow_y": null,
            "padding": null,
            "right": null,
            "top": null,
            "visibility": null,
            "width": null
          }
        },
        "116303c9f8f74bfdb74216349d1691e1": {
          "model_module": "@jupyter-widgets/base",
          "model_name": "LayoutModel",
          "model_module_version": "1.2.0",
          "state": {
            "_model_module": "@jupyter-widgets/base",
            "_model_module_version": "1.2.0",
            "_model_name": "LayoutModel",
            "_view_count": null,
            "_view_module": "@jupyter-widgets/base",
            "_view_module_version": "1.2.0",
            "_view_name": "LayoutView",
            "align_content": null,
            "align_items": null,
            "align_self": null,
            "border": null,
            "bottom": null,
            "display": null,
            "flex": null,
            "flex_flow": null,
            "grid_area": null,
            "grid_auto_columns": null,
            "grid_auto_flow": null,
            "grid_auto_rows": null,
            "grid_column": null,
            "grid_gap": null,
            "grid_row": null,
            "grid_template_areas": null,
            "grid_template_columns": null,
            "grid_template_rows": null,
            "height": null,
            "justify_content": null,
            "justify_items": null,
            "left": null,
            "margin": null,
            "max_height": null,
            "max_width": null,
            "min_height": null,
            "min_width": null,
            "object_fit": null,
            "object_position": null,
            "order": null,
            "overflow": null,
            "overflow_x": null,
            "overflow_y": null,
            "padding": null,
            "right": null,
            "top": null,
            "visibility": null,
            "width": null
          }
        },
        "c39efed4b8ee41f7afd7cf50a6f6b6b0": {
          "model_module": "@jupyter-widgets/controls",
          "model_name": "DescriptionStyleModel",
          "model_module_version": "1.5.0",
          "state": {
            "_model_module": "@jupyter-widgets/controls",
            "_model_module_version": "1.5.0",
            "_model_name": "DescriptionStyleModel",
            "_view_count": null,
            "_view_module": "@jupyter-widgets/base",
            "_view_module_version": "1.2.0",
            "_view_name": "StyleView",
            "description_width": ""
          }
        },
        "f7e7da7fe4044317a37a77e60ec4c3f4": {
          "model_module": "@jupyter-widgets/base",
          "model_name": "LayoutModel",
          "model_module_version": "1.2.0",
          "state": {
            "_model_module": "@jupyter-widgets/base",
            "_model_module_version": "1.2.0",
            "_model_name": "LayoutModel",
            "_view_count": null,
            "_view_module": "@jupyter-widgets/base",
            "_view_module_version": "1.2.0",
            "_view_name": "LayoutView",
            "align_content": null,
            "align_items": null,
            "align_self": null,
            "border": null,
            "bottom": null,
            "display": null,
            "flex": null,
            "flex_flow": null,
            "grid_area": null,
            "grid_auto_columns": null,
            "grid_auto_flow": null,
            "grid_auto_rows": null,
            "grid_column": null,
            "grid_gap": null,
            "grid_row": null,
            "grid_template_areas": null,
            "grid_template_columns": null,
            "grid_template_rows": null,
            "height": null,
            "justify_content": null,
            "justify_items": null,
            "left": null,
            "margin": null,
            "max_height": null,
            "max_width": null,
            "min_height": null,
            "min_width": null,
            "object_fit": null,
            "object_position": null,
            "order": null,
            "overflow": null,
            "overflow_x": null,
            "overflow_y": null,
            "padding": null,
            "right": null,
            "top": null,
            "visibility": null,
            "width": "20px"
          }
        },
        "80ec6870f41a4935b0888f08b90a7ac7": {
          "model_module": "@jupyter-widgets/controls",
          "model_name": "ProgressStyleModel",
          "model_module_version": "1.5.0",
          "state": {
            "_model_module": "@jupyter-widgets/controls",
            "_model_module_version": "1.5.0",
            "_model_name": "ProgressStyleModel",
            "_view_count": null,
            "_view_module": "@jupyter-widgets/base",
            "_view_module_version": "1.2.0",
            "_view_name": "StyleView",
            "bar_color": null,
            "description_width": ""
          }
        },
        "f49254f2f6fd43a690693b22c5c6944b": {
          "model_module": "@jupyter-widgets/base",
          "model_name": "LayoutModel",
          "model_module_version": "1.2.0",
          "state": {
            "_model_module": "@jupyter-widgets/base",
            "_model_module_version": "1.2.0",
            "_model_name": "LayoutModel",
            "_view_count": null,
            "_view_module": "@jupyter-widgets/base",
            "_view_module_version": "1.2.0",
            "_view_name": "LayoutView",
            "align_content": null,
            "align_items": null,
            "align_self": null,
            "border": null,
            "bottom": null,
            "display": null,
            "flex": null,
            "flex_flow": null,
            "grid_area": null,
            "grid_auto_columns": null,
            "grid_auto_flow": null,
            "grid_auto_rows": null,
            "grid_column": null,
            "grid_gap": null,
            "grid_row": null,
            "grid_template_areas": null,
            "grid_template_columns": null,
            "grid_template_rows": null,
            "height": null,
            "justify_content": null,
            "justify_items": null,
            "left": null,
            "margin": null,
            "max_height": null,
            "max_width": null,
            "min_height": null,
            "min_width": null,
            "object_fit": null,
            "object_position": null,
            "order": null,
            "overflow": null,
            "overflow_x": null,
            "overflow_y": null,
            "padding": null,
            "right": null,
            "top": null,
            "visibility": null,
            "width": null
          }
        },
        "1bfdbfd1864f40c0b7e2f7a7c700b3cc": {
          "model_module": "@jupyter-widgets/controls",
          "model_name": "DescriptionStyleModel",
          "model_module_version": "1.5.0",
          "state": {
            "_model_module": "@jupyter-widgets/controls",
            "_model_module_version": "1.5.0",
            "_model_name": "DescriptionStyleModel",
            "_view_count": null,
            "_view_module": "@jupyter-widgets/base",
            "_view_module_version": "1.2.0",
            "_view_name": "StyleView",
            "description_width": ""
          }
        }
      }
    }
  },
  "nbformat": 4,
  "nbformat_minor": 0
}